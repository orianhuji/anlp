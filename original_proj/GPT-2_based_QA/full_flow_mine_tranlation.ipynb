{
  "cells": [
    {
      "cell_type": "markdown",
      "metadata": {
        "id": "hKfvNlxGgDtB"
      },
      "source": [
        "# Installing libraries\n",
        "\n",
        "Installing HuggingFace Transformers (https://github.com/huggingface/transformers)"
      ]
    },
    {
      "cell_type": "code",
      "execution_count": 15,
      "metadata": {},
      "outputs": [
        {
          "name": "stderr",
          "output_type": "stream",
          "text": [
            "huggingface/tokenizers: The current process just got forked, after parallelism has already been used. Disabling parallelism to avoid deadlocks...\n",
            "To disable this warning, you can either:\n",
            "\t- Avoid using `tokenizers` before the fork if possible\n",
            "\t- Explicitly set the environment variable TOKENIZERS_PARALLELISM=(true | false)\n"
          ]
        },
        {
          "name": "stdout",
          "output_type": "stream",
          "text": [
            "Requirement already satisfied: datasets in /home/orian/PycharmProjects/ANLP/venv/lib/python3.10/site-packages (2.20.0)\n",
            "Requirement already satisfied: transformers in /home/orian/PycharmProjects/ANLP/venv/lib/python3.10/site-packages (4.41.2)\n",
            "Requirement already satisfied: scikit-learn in /home/orian/PycharmProjects/ANLP/venv/lib/python3.10/site-packages (1.5.1)\n",
            "Requirement already satisfied: torch in /home/orian/PycharmProjects/ANLP/venv/lib/python3.10/site-packages (2.3.0+cu121)\n",
            "Requirement already satisfied: pandas in /home/orian/PycharmProjects/ANLP/venv/lib/python3.10/site-packages (2.2.2)\n",
            "Requirement already satisfied: evaluate in /home/orian/PycharmProjects/ANLP/venv/lib/python3.10/site-packages (0.4.2)\n",
            "Requirement already satisfied: tensorboardX in /home/orian/PycharmProjects/ANLP/venv/lib/python3.10/site-packages (2.6.2.2)\n",
            "Requirement already satisfied: filelock in /home/orian/PycharmProjects/ANLP/venv/lib/python3.10/site-packages (from datasets) (3.13.1)\n",
            "Requirement already satisfied: numpy>=1.17 in /home/orian/PycharmProjects/ANLP/venv/lib/python3.10/site-packages (from datasets) (1.26.4)\n",
            "Requirement already satisfied: pyarrow>=15.0.0 in /home/orian/PycharmProjects/ANLP/venv/lib/python3.10/site-packages (from datasets) (17.0.0)\n",
            "Requirement already satisfied: pyarrow-hotfix in /home/orian/PycharmProjects/ANLP/venv/lib/python3.10/site-packages (from datasets) (0.6)\n",
            "Requirement already satisfied: dill<0.3.9,>=0.3.0 in /home/orian/PycharmProjects/ANLP/venv/lib/python3.10/site-packages (from datasets) (0.3.8)\n",
            "Requirement already satisfied: requests>=2.32.2 in /home/orian/PycharmProjects/ANLP/venv/lib/python3.10/site-packages (from datasets) (2.32.3)\n",
            "Requirement already satisfied: tqdm>=4.66.3 in /home/orian/PycharmProjects/ANLP/venv/lib/python3.10/site-packages (from datasets) (4.66.4)\n",
            "Requirement already satisfied: xxhash in /home/orian/PycharmProjects/ANLP/venv/lib/python3.10/site-packages (from datasets) (3.4.1)\n",
            "Requirement already satisfied: multiprocess in /home/orian/PycharmProjects/ANLP/venv/lib/python3.10/site-packages (from datasets) (0.70.16)\n",
            "Requirement already satisfied: fsspec<=2024.5.0,>=2023.1.0 in /home/orian/PycharmProjects/ANLP/venv/lib/python3.10/site-packages (from fsspec[http]<=2024.5.0,>=2023.1.0->datasets) (2024.2.0)\n",
            "Requirement already satisfied: aiohttp in /home/orian/PycharmProjects/ANLP/venv/lib/python3.10/site-packages (from datasets) (3.9.5)\n",
            "Requirement already satisfied: huggingface-hub>=0.21.2 in /home/orian/PycharmProjects/ANLP/venv/lib/python3.10/site-packages (from datasets) (0.23.2)\n",
            "Requirement already satisfied: packaging in /home/orian/PycharmProjects/ANLP/venv/lib/python3.10/site-packages (from datasets) (24.0)\n",
            "Requirement already satisfied: pyyaml>=5.1 in /home/orian/PycharmProjects/ANLP/venv/lib/python3.10/site-packages (from datasets) (6.0.1)\n",
            "Requirement already satisfied: regex!=2019.12.17 in /home/orian/PycharmProjects/ANLP/venv/lib/python3.10/site-packages (from transformers) (2024.5.15)\n",
            "Requirement already satisfied: tokenizers<0.20,>=0.19 in /home/orian/PycharmProjects/ANLP/venv/lib/python3.10/site-packages (from transformers) (0.19.1)\n",
            "Requirement already satisfied: safetensors>=0.4.1 in /home/orian/PycharmProjects/ANLP/venv/lib/python3.10/site-packages (from transformers) (0.4.3)\n",
            "Requirement already satisfied: scipy>=1.6.0 in /home/orian/PycharmProjects/ANLP/venv/lib/python3.10/site-packages (from scikit-learn) (1.14.0)\n",
            "Requirement already satisfied: joblib>=1.2.0 in /home/orian/PycharmProjects/ANLP/venv/lib/python3.10/site-packages (from scikit-learn) (1.4.2)\n",
            "Requirement already satisfied: threadpoolctl>=3.1.0 in /home/orian/PycharmProjects/ANLP/venv/lib/python3.10/site-packages (from scikit-learn) (3.5.0)\n",
            "Requirement already satisfied: typing-extensions>=4.8.0 in /home/orian/PycharmProjects/ANLP/venv/lib/python3.10/site-packages (from torch) (4.9.0)\n",
            "Requirement already satisfied: sympy in /home/orian/PycharmProjects/ANLP/venv/lib/python3.10/site-packages (from torch) (1.12)\n",
            "Requirement already satisfied: networkx in /home/orian/PycharmProjects/ANLP/venv/lib/python3.10/site-packages (from torch) (3.2.1)\n",
            "Requirement already satisfied: jinja2 in /home/orian/PycharmProjects/ANLP/venv/lib/python3.10/site-packages (from torch) (3.1.3)\n",
            "Requirement already satisfied: nvidia-cuda-nvrtc-cu12==12.1.105 in /home/orian/PycharmProjects/ANLP/venv/lib/python3.10/site-packages (from torch) (12.1.105)\n",
            "Requirement already satisfied: nvidia-cuda-runtime-cu12==12.1.105 in /home/orian/PycharmProjects/ANLP/venv/lib/python3.10/site-packages (from torch) (12.1.105)\n",
            "Requirement already satisfied: nvidia-cuda-cupti-cu12==12.1.105 in /home/orian/PycharmProjects/ANLP/venv/lib/python3.10/site-packages (from torch) (12.1.105)\n",
            "Requirement already satisfied: nvidia-cudnn-cu12==8.9.2.26 in /home/orian/PycharmProjects/ANLP/venv/lib/python3.10/site-packages (from torch) (8.9.2.26)\n",
            "Requirement already satisfied: nvidia-cublas-cu12==12.1.3.1 in /home/orian/PycharmProjects/ANLP/venv/lib/python3.10/site-packages (from torch) (12.1.3.1)\n",
            "Requirement already satisfied: nvidia-cufft-cu12==11.0.2.54 in /home/orian/PycharmProjects/ANLP/venv/lib/python3.10/site-packages (from torch) (11.0.2.54)\n",
            "Requirement already satisfied: nvidia-curand-cu12==10.3.2.106 in /home/orian/PycharmProjects/ANLP/venv/lib/python3.10/site-packages (from torch) (10.3.2.106)\n",
            "Requirement already satisfied: nvidia-cusolver-cu12==11.4.5.107 in /home/orian/PycharmProjects/ANLP/venv/lib/python3.10/site-packages (from torch) (11.4.5.107)\n",
            "Requirement already satisfied: nvidia-cusparse-cu12==12.1.0.106 in /home/orian/PycharmProjects/ANLP/venv/lib/python3.10/site-packages (from torch) (12.1.0.106)\n",
            "Requirement already satisfied: nvidia-nccl-cu12==2.20.5 in /home/orian/PycharmProjects/ANLP/venv/lib/python3.10/site-packages (from torch) (2.20.5)\n",
            "Requirement already satisfied: nvidia-nvtx-cu12==12.1.105 in /home/orian/PycharmProjects/ANLP/venv/lib/python3.10/site-packages (from torch) (12.1.105)\n",
            "Requirement already satisfied: triton==2.3.0 in /home/orian/PycharmProjects/ANLP/venv/lib/python3.10/site-packages (from torch) (2.3.0)\n",
            "Requirement already satisfied: nvidia-nvjitlink-cu12 in /home/orian/PycharmProjects/ANLP/venv/lib/python3.10/site-packages (from nvidia-cusolver-cu12==11.4.5.107->torch) (12.1.105)\n",
            "Requirement already satisfied: python-dateutil>=2.8.2 in /home/orian/PycharmProjects/ANLP/venv/lib/python3.10/site-packages (from pandas) (2.9.0.post0)\n",
            "Requirement already satisfied: pytz>=2020.1 in /home/orian/PycharmProjects/ANLP/venv/lib/python3.10/site-packages (from pandas) (2024.1)\n",
            "Requirement already satisfied: tzdata>=2022.7 in /home/orian/PycharmProjects/ANLP/venv/lib/python3.10/site-packages (from pandas) (2024.1)\n",
            "Requirement already satisfied: protobuf>=3.20 in /home/orian/PycharmProjects/ANLP/venv/lib/python3.10/site-packages (from tensorboardX) (4.25.3)\n",
            "Requirement already satisfied: aiosignal>=1.1.2 in /home/orian/PycharmProjects/ANLP/venv/lib/python3.10/site-packages (from aiohttp->datasets) (1.3.1)\n",
            "Requirement already satisfied: attrs>=17.3.0 in /home/orian/PycharmProjects/ANLP/venv/lib/python3.10/site-packages (from aiohttp->datasets) (23.2.0)\n",
            "Requirement already satisfied: frozenlist>=1.1.1 in /home/orian/PycharmProjects/ANLP/venv/lib/python3.10/site-packages (from aiohttp->datasets) (1.4.1)\n",
            "Requirement already satisfied: multidict<7.0,>=4.5 in /home/orian/PycharmProjects/ANLP/venv/lib/python3.10/site-packages (from aiohttp->datasets) (6.0.5)\n",
            "Requirement already satisfied: yarl<2.0,>=1.0 in /home/orian/PycharmProjects/ANLP/venv/lib/python3.10/site-packages (from aiohttp->datasets) (1.9.4)\n",
            "Requirement already satisfied: async-timeout<5.0,>=4.0 in /home/orian/PycharmProjects/ANLP/venv/lib/python3.10/site-packages (from aiohttp->datasets) (4.0.3)\n",
            "Requirement already satisfied: six>=1.5 in /home/orian/PycharmProjects/ANLP/venv/lib/python3.10/site-packages (from python-dateutil>=2.8.2->pandas) (1.16.0)\n",
            "Requirement already satisfied: charset-normalizer<4,>=2 in /home/orian/PycharmProjects/ANLP/venv/lib/python3.10/site-packages (from requests>=2.32.2->datasets) (3.3.2)\n",
            "Requirement already satisfied: idna<4,>=2.5 in /home/orian/PycharmProjects/ANLP/venv/lib/python3.10/site-packages (from requests>=2.32.2->datasets) (3.7)\n",
            "Requirement already satisfied: urllib3<3,>=1.21.1 in /home/orian/PycharmProjects/ANLP/venv/lib/python3.10/site-packages (from requests>=2.32.2->datasets) (2.2.1)\n",
            "Requirement already satisfied: certifi>=2017.4.17 in /home/orian/PycharmProjects/ANLP/venv/lib/python3.10/site-packages (from requests>=2.32.2->datasets) (2024.6.2)\n",
            "Requirement already satisfied: MarkupSafe>=2.0 in /home/orian/PycharmProjects/ANLP/venv/lib/python3.10/site-packages (from jinja2->torch) (2.1.5)\n",
            "Requirement already satisfied: mpmath>=0.19 in /home/orian/PycharmProjects/ANLP/venv/lib/python3.10/site-packages (from sympy->torch) (1.3.0)\n",
            "\n",
            "\u001b[1m[\u001b[0m\u001b[34;49mnotice\u001b[0m\u001b[1;39;49m]\u001b[0m\u001b[39;49m A new release of pip is available: \u001b[0m\u001b[31;49m24.0\u001b[0m\u001b[39;49m -> \u001b[0m\u001b[32;49m24.1.2\u001b[0m\n",
            "\u001b[1m[\u001b[0m\u001b[34;49mnotice\u001b[0m\u001b[1;39;49m]\u001b[0m\u001b[39;49m To update, run: \u001b[0m\u001b[32;49mpip install --upgrade pip\u001b[0m\n"
          ]
        }
      ],
      "source": [
        "!pip install datasets transformers scikit-learn torch pandas evaluate tensorboardX"
      ]
    },
    {
      "cell_type": "markdown",
      "metadata": {
        "id": "tRuKCDbpfQd7"
      },
      "source": [
        "# Dataset processing\n",
        "\n",
        "Uploading the dataset, splitting the data into train, validation and test sets"
      ]
    },
    {
      "cell_type": "code",
      "execution_count": 4,
      "metadata": {},
      "outputs": [],
      "source": [
        "import pandas as pd\n",
        "from datasets import DatasetDict, Dataset\n",
        "\n",
        "\n",
        "train_data = pd.read_json('../data/translated_Unbabel_TowerInstruct-v0.1_substring_logic_train.json', lines=True, encoding='utf-8')\n",
        "\n",
        "validation_data = pd.read_json('../data/translated_Unbabel_TowerInstruct-v0.1_substring_logic_validation.json', lines=True, encoding='utf-8')\n",
        "\n",
        "\n",
        "squad = DatasetDict(\n",
        "    {'train': Dataset.from_pandas(train_data).shuffle(),\n",
        "     'validation': Dataset.from_pandas(validation_data).shuffle()\n",
        "     })"
      ]
    },
    {
      "cell_type": "markdown",
      "metadata": {
        "id": "VkXTOmn7gyee"
      },
      "source": [
        "Getting contexts, questions and answers from the train and validation sets"
      ]
    },
    {
      "cell_type": "code",
      "execution_count": 5,
      "metadata": {},
      "outputs": [
        {
          "name": "stderr",
          "output_type": "stream",
          "text": [
            "Map: 100%|██████████| 2901/2901 [00:00<00:00, 11303.83 examples/s]\n",
            "Map: 100%|██████████| 643/643 [00:00<00:00, 17790.88 examples/s]\n",
            "Map: 100%|██████████| 2901/2901 [00:00<00:00, 30961.64 examples/s]\n",
            "Map: 100%|██████████| 643/643 [00:00<00:00, 29573.30 examples/s]\n"
          ]
        }
      ],
      "source": [
        "def add_answer_clean(r):\n",
        "    r['answer_clean'] = '' if r['is_impossible'] else r['answers']['text_en'][0]\n",
        "    return r\n",
        "\n",
        "squad = squad.map(add_answer_clean)\n",
        "\n",
        "\n",
        "def get_text(r):\n",
        "    return {\n",
        "        'text': f\"{r['context_en']}\\n{r['question_en']}\\n{r['answer_clean']}\" # valid\n",
        "        # 'text': f\"{r['question']}\\n{r['answer_clean']}\" # invalid used in paper\n",
        "    }\n",
        "\n",
        "squad = squad.map(get_text)"
      ]
    },
    {
      "cell_type": "code",
      "execution_count": 5,
      "metadata": {},
      "outputs": [
        {
          "name": "stderr",
          "output_type": "stream",
          "text": [
            "2024-08-11 17:05:37.456240: I tensorflow/core/util/port.cc:153] oneDNN custom operations are on. You may see slightly different numerical results due to floating-point round-off errors from different computation orders. To turn them off, set the environment variable `TF_ENABLE_ONEDNN_OPTS=0`.\n",
            "2024-08-11 17:05:37.463297: E external/local_xla/xla/stream_executor/cuda/cuda_fft.cc:485] Unable to register cuFFT factory: Attempting to register factory for plugin cuFFT when one has already been registered\n",
            "2024-08-11 17:05:37.471585: E external/local_xla/xla/stream_executor/cuda/cuda_dnn.cc:8454] Unable to register cuDNN factory: Attempting to register factory for plugin cuDNN when one has already been registered\n",
            "2024-08-11 17:05:37.474059: E external/local_xla/xla/stream_executor/cuda/cuda_blas.cc:1452] Unable to register cuBLAS factory: Attempting to register factory for plugin cuBLAS when one has already been registered\n",
            "2024-08-11 17:05:37.480230: I tensorflow/core/platform/cpu_feature_guard.cc:210] This TensorFlow binary is optimized to use available CPU instructions in performance-critical operations.\n",
            "To enable the following instructions: AVX2 AVX_VNNI FMA, in other operations, rebuild TensorFlow with the appropriate compiler flags.\n",
            "2024-08-11 17:05:37.856950: W tensorflow/compiler/tf2tensorrt/utils/py_utils.cc:38] TF-TRT Warning: Could not find TensorRT\n",
            "Map: 100%|██████████| 2901/2901 [00:00<00:00, 3190.81 examples/s]\n",
            "Map: 100%|██████████| 643/643 [00:00<00:00, 3014.56 examples/s]\n",
            "/home/orian/PycharmProjects/ANLP/venv/lib/python3.10/site-packages/transformers/training_args.py:1474: FutureWarning: `evaluation_strategy` is deprecated and will be removed in version 4.46 of 🤗 Transformers. Use `eval_strategy` instead\n",
            "  warnings.warn(\n"
          ]
        },
        {
          "name": "stdout",
          "output_type": "stream",
          "text": [
            "{'eval_loss': 0.5049452185630798, 'eval_runtime': 21.0993, 'eval_samples_per_second': 30.475, 'eval_steps_per_second': 15.261, 'epoch': 0.9979324603721571}\n",
            "{'eval_loss': 0.5330626368522644, 'eval_runtime': 20.9925, 'eval_samples_per_second': 30.63, 'eval_steps_per_second': 15.339, 'epoch': 1.9958649207443142}\n",
            "{'loss': 0.2909, 'grad_norm': 0.3425661325454712, 'learning_rate': 2.375690607734807e-06, 'epoch': 2.7567195037904892}\n",
            "{'eval_loss': 0.5520020723342896, 'eval_runtime': 20.9112, 'eval_samples_per_second': 30.749, 'eval_steps_per_second': 15.398, 'epoch': 2.9937973811164715}\n",
            "{'train_runtime': 1166.1404, 'train_samples_per_second': 7.463, 'train_steps_per_second': 0.466, 'train_loss': 0.2797871935652984, 'epoch': 2.9937973811164715}\n",
            "english model en_gpt2-large train time 0:19:26.238848\n"
          ]
        }
      ],
      "source": [
        "import pickle\n",
        "from transformers import GPT2Tokenizer, GPT2LMHeadModel, TrainingArguments, Trainer\n",
        "import torch\n",
        "import collections\n",
        "from datetime import datetime\n",
        "from tqdm import tqdm\n",
        "from evaluate import load\n",
        "from transformers.utils.logging import set_verbosity_error\n",
        "from transformers import set_seed\n",
        "\n",
        "set_seed(42)\n",
        "set_verbosity_error()\n",
        "squad_v2_metric = load(\"squad_v2\")\n",
        "\n",
        "val_answers = [a['text_en'][0] for a in squad['validation']['answers']]\n",
        "device = torch.device(\"cuda\" if torch.cuda.is_available() else \"cpu\")\n",
        "\n",
        "train_times = {}\n",
        "# batch = 16 # not enough memory on my PC, using gradient_accumulation_steps\n",
        "batch, lr, epochs, model_name, model_path = 2, 3e-5, 3, 'en_gpt2-large', 'openai-community/gpt2-large'\n",
        "model = GPT2LMHeadModel.from_pretrained(model_path)\n",
        "tokenizer = GPT2Tokenizer.from_pretrained(model_path)\n",
        "tokenizer.pad_token = tokenizer.eos_token\n",
        "\n",
        "def prepare_train_features(examples):\n",
        "    encoding = tokenizer(\n",
        "        examples[\"text\"],\n",
        "        max_length=512,\n",
        "        padding=\"max_length\",\n",
        "        truncation=True,\n",
        "    )\n",
        "    encoding[\"labels\"] = encoding[\"input_ids\"].copy()\n",
        "    return encoding\n",
        "\n",
        "tokenized_datasets = squad.map(prepare_train_features, batched=True, remove_columns=squad[\"train\"].column_names)\n",
        "tokenized_datasets.set_format(\"torch\")\n",
        "\n",
        "with open(f\"../data/english_tokenized_{model_name}_datasets.pkl\",\"wb\") as file:\n",
        "    pickle.dump(tokenized_datasets, file)\n",
        "\n",
        "\n",
        "args = TrainingArguments(\n",
        "    output_dir=f\"../models/{model_name}\",\n",
        "    evaluation_strategy = \"epoch\",\n",
        "    save_strategy=\"epoch\", \n",
        "    learning_rate=lr,\n",
        "    per_device_train_batch_size=batch,\n",
        "    per_device_eval_batch_size=batch,\n",
        "    num_train_epochs=epochs,\n",
        "    report_to='tensorboard',\n",
        "    logging_dir=f'../logs/{model_name}',\n",
        "    load_best_model_at_end=True,\n",
        "    gradient_accumulation_steps=int(16 / batch)\n",
        "    # weight_decay=0.01,\n",
        ")\n",
        "\n",
        "\n",
        "trainer = Trainer(\n",
        "    model=model,\n",
        "    args=args,\n",
        "    train_dataset=tokenized_datasets[\"train\"],\n",
        "    eval_dataset=tokenized_datasets[\"validation\"],\n",
        "    tokenizer=tokenizer,\n",
        ")\n",
        "\n",
        "start_time = datetime.now()\n",
        "trainer.train()\n",
        "print(\"english model\", model_name, \"train time\", datetime.now() - start_time)\n",
        "train_times[model_name] = datetime.now() - start_time\n",
        "\n",
        "trainer.save_model()"
      ]
    },
    {
      "cell_type": "code",
      "execution_count": 6,
      "metadata": {},
      "outputs": [
        {
          "data": {
            "text/plain": [
              "{'en_gpt2-large': datetime.timedelta(seconds=1166, microseconds=238883)}"
            ]
          },
          "execution_count": 6,
          "metadata": {},
          "output_type": "execute_result"
        }
      ],
      "source": [
        "train_times"
      ]
    },
    {
      "cell_type": "code",
      "execution_count": 11,
      "metadata": {},
      "outputs": [
        {
          "name": "stdout",
          "output_type": "stream",
          "text": [
            "english model en_gpt2-large invalid f1 score 0.6212649780069771\n",
            "english model en_gpt2-large squad results {'exact': 0.6220839813374806, 'f1': 17.330527419380857, 'total': 643, 'HasAns_exact': 0.6220839813374806, 'HasAns_f1': 17.330527419380857, 'HasAns_total': 643, 'best_exact': 0.6220839813374806, 'best_exact_thresh': 0.0, 'best_f1': 17.330527419380857, 'best_f1_thresh': 0.0}\n"
          ]
        }
      ],
      "source": [
        "import torch\n",
        "from transformers import pipeline\n",
        "from transformers import GPT2Tokenizer, GPT2LMHeadModel\n",
        "import collections\n",
        "from tqdm import tqdm\n",
        "\n",
        "from evaluate import load\n",
        "squad_v2_metric = load(\"squad_v2\")\n",
        "\n",
        "model_name = 'en_gpt2-large'\n",
        "model_path = f\"../models/{model_name}\"\n",
        "\n",
        "model = GPT2LMHeadModel.from_pretrained(model_path)\n",
        "tokenizer = GPT2Tokenizer.from_pretrained(model_path)\n",
        "tokenizer.pad_token = tokenizer.eos_token\n",
        "qa_pipeline = pipeline(\"text-generation\", model=model, tokenizer=tokenizer, device=device, max_length=512)\n",
        "\n",
        "\n",
        "train_data = pd.read_json('../data/translated_Unbabel_TowerInstruct-v0.1_substring_logic_train.json', lines=True, encoding='utf-8')\n",
        "\n",
        "validation_data = pd.read_json('../data/translated_Unbabel_TowerInstruct-v0.1_substring_logic_validation.json', lines=True, encoding='utf-8')\n",
        "\n",
        "\n",
        "squad = DatasetDict(\n",
        "    {'train': Dataset.from_pandas(train_data).shuffle(),\n",
        "     'validation': Dataset.from_pandas(validation_data).shuffle()\n",
        "     })\n",
        "\n",
        "\n",
        "def get_text(r):\n",
        "    return {\n",
        "        'text': f\"{r['context_en']}\\n{r['question_en']}\\n\" # valid\n",
        "        # 'text': f\"{r['question']}\\n\" # invalid used in paper\n",
        "    }\n",
        "\n",
        "squad = squad.map(get_text)\n",
        "\n",
        "tokenized_datasets = squad.map(prepare_train_features, batched=True, remove_columns=squad[\"train\"].column_names)\n",
        "\n",
        "eval_answers = []\n",
        "\n",
        "for item in tqdm(squad['validation']):\n",
        "    input_text = get_text(item)['text']\n",
        "    output = qa_pipeline(input_text, num_return_sequences=1)\n",
        "    prediction = output[0]['generated_text'].split(\"\\n\")[1].strip()\n",
        "    eval_answers.append(prediction)\n",
        "\n",
        "num_c = []\n",
        "num_p = []\n",
        "num_g = []\n",
        "\n",
        "for a in range(len(eval_answers)):\n",
        "\n",
        "    common = collections.Counter(eval_answers[a].split()) & collections.Counter(eval_answers[a].split()) # tokens shared between gold and predicted answers\n",
        "    num_common = sum(common.values())\n",
        "\n",
        "    num_pred = len(str(eval_answers[a]).split()) # the number of predicted tokens\n",
        "\n",
        "    num_gold = len(str(val_answers[a]).split()) # the number of gold tokens\n",
        "\n",
        "    num_c.append(num_common)\n",
        "    num_p.append(num_pred)\n",
        "    num_g.append(num_gold)\n",
        "\n",
        "precision = 1.0 * sum(num_c) / sum(num_p) # the num of tokens shared between gold and predicted answers / the num of predicted tokens\n",
        "recall = 1.0 * sum(num_c) / sum(num_g) # the num of tokens shared between gold and predicted answers / the num of gold tokens\n",
        "invalid_f1_score= (2 * precision * recall) / (precision + recall)\n",
        "print(\"english model\", model_name, \"invalid f1 score\", invalid_f1_score)\n",
        "\n",
        "predictions = [{'prediction_text': a, 'id': str(idx), 'no_answer_probability': 0.} for idx, a in enumerate(eval_answers)]\n",
        "references = [{'answers': a, 'id': str(idx)} for idx, a in enumerate([{'text': r['text_en'], 'answer_start': r['answer_start_en']} for r in squad['validation']['answers']])]\n",
        "\n",
        "results = squad_v2_metric.compute(predictions=predictions, references=references)\n",
        "print(\"english model\", model_name, \"squad results\", results)"
      ]
    },
    {
      "cell_type": "code",
      "execution_count": 8,
      "metadata": {},
      "outputs": [
        {
          "name": "stderr",
          "output_type": "stream",
          "text": [
            "Map: 100%|██████████| 51/51 [00:00<00:00, 14546.72 examples/s]\n",
            "Map: 100%|██████████| 51/51 [00:00<00:00, 15568.38 examples/s]\n",
            "Map: 100%|██████████| 2901/2901 [00:00<00:00, 3265.37 examples/s]\n",
            "Map: 100%|██████████| 643/643 [00:00<00:00, 3402.32 examples/s]\n",
            "100%|██████████| 51/51 [00:17<00:00,  2.89it/s]\n"
          ]
        },
        {
          "name": "stdout",
          "output_type": "stream",
          "text": [
            "english model en_gpt2-large invalid f1 score 0.53125\n",
            "english model en_gpt2-large squad results {'exact': 3.9215686274509802, 'f1': 18.902089253130494, 'total': 51, 'HasAns_exact': 3.9215686274509802, 'HasAns_f1': 18.902089253130494, 'HasAns_total': 51, 'best_exact': 3.9215686274509802, 'best_exact_thresh': 0.0, 'best_f1': 18.902089253130494, 'best_f1_thresh': 0.0}\n"
          ]
        }
      ],
      "source": [
        "import torch\n",
        "from transformers import pipeline\n",
        "from transformers import GPT2Tokenizer, GPT2LMHeadModel\n",
        "import collections\n",
        "from tqdm import tqdm\n",
        "\n",
        "from evaluate import load\n",
        "squad_v2_metric = load(\"squad_v2\")\n",
        "\n",
        "model_name = 'en_gpt2-large'\n",
        "model_path = f\"../models/{model_name}\"\n",
        "\n",
        "model = GPT2LMHeadModel.from_pretrained(model_path)\n",
        "tokenizer = GPT2Tokenizer.from_pretrained(model_path)\n",
        "tokenizer.pad_token = tokenizer.eos_token\n",
        "qa_pipeline = pipeline(\"text-generation\", model=model, tokenizer=tokenizer, device=device, max_length=512)\n",
        "\n",
        "\n",
        "exploded_df = pd.json_normalize(pd.json_normalize(pd.read_json('../data/translated_alina.json')['data'])['paragraphs'].explode())\n",
        "exploded_df = exploded_df[~exploded_df['context_en'].isna()].reset_index(drop=True)\n",
        "exploded_df = exploded_df.drop('qas', axis=1).join(pd.DataFrame(exploded_df['qas'].explode())).reset_index(drop=True)\n",
        "exploded_df = exploded_df.join(pd.json_normalize(exploded_df['qas'])).drop('qas', axis=1)\n",
        "exploded_df = exploded_df[~exploded_df['question_en'].isna()].reset_index(drop=True)\n",
        "\n",
        "exploded_df['answers'] = exploded_df['answers'].apply(lambda an: {\n",
        "    'text_en': [an[0]['text_en']],\n",
        "    'answer_start_en': [an[0]['answer_start']],\n",
        "    'answer_end_en': [an[0]['answer_end']],\n",
        "})\n",
        "\n",
        "alina_translation = Dataset.from_pandas(exploded_df)\n",
        "\n",
        "squad_alina = DatasetDict({\n",
        "    'validation': alina_translation,\n",
        "    'train': alina_translation\n",
        "})\n",
        "\n",
        "\n",
        "def get_text(r):\n",
        "    return {\n",
        "        'text': f\"{r['context_en']}\\n{r['question_en']}\\n\" # valid\n",
        "        # 'text': f\"{r['question']}\\n\" # invalid used in paper\n",
        "    }\n",
        "\n",
        "squad_alina = squad_alina.map(get_text)\n",
        "\n",
        "def prepare_train_features(examples):\n",
        "    encoding = tokenizer(\n",
        "        examples[\"text\"],\n",
        "        max_length=512,\n",
        "        padding=\"max_length\",\n",
        "        truncation=True,\n",
        "    )\n",
        "    encoding[\"labels\"] = encoding[\"input_ids\"].copy()\n",
        "    return encoding\n",
        "\n",
        "tokenized_datasets = squad.map(prepare_train_features, batched=True, remove_columns=squad_alina[\"train\"].column_names)\n",
        "\n",
        "eval_answers = []\n",
        "\n",
        "for item in tqdm(squad_alina['validation']):\n",
        "    input_text = get_text(item)['text']\n",
        "    output = qa_pipeline(input_text, num_return_sequences=1)\n",
        "    prediction = output[0]['generated_text'].split(\"\\n\")[1].strip()\n",
        "    eval_answers.append(prediction)\n",
        "\n",
        "num_c = []\n",
        "num_p = []\n",
        "num_g = []\n",
        "\n",
        "for a in range(len(eval_answers)):\n",
        "\n",
        "    common = collections.Counter(eval_answers[a].split()) & collections.Counter(eval_answers[a].split()) # tokens shared between gold and predicted answers\n",
        "    num_common = sum(common.values())\n",
        "\n",
        "    num_pred = len(str(eval_answers[a]).split()) # the number of predicted tokens\n",
        "\n",
        "    num_gold = len(str(val_answers[a]).split()) # the number of gold tokens\n",
        "\n",
        "    num_c.append(num_common)\n",
        "    num_p.append(num_pred)\n",
        "    num_g.append(num_gold)\n",
        "\n",
        "precision = 1.0 * sum(num_c) / sum(num_p) # the num of tokens shared between gold and predicted answers / the num of predicted tokens\n",
        "recall = 1.0 * sum(num_c) / sum(num_g) # the num of tokens shared between gold and predicted answers / the num of gold tokens\n",
        "invalid_f1_score= (2 * precision * recall) / (precision + recall)\n",
        "print(\"english model\", model_name, \"invalid f1 score\", invalid_f1_score)\n",
        "\n",
        "predictions = [{'prediction_text': a, 'id': str(idx), 'no_answer_probability': 0.} for idx, a in enumerate(eval_answers)]\n",
        "references = [{'answers': a, 'id': str(idx)} for idx, a in enumerate([{'text': r['text_en'], 'answer_start': r['answer_start_en']} for r in squad_alina['validation']['answers']])]\n",
        "\n",
        "results = squad_v2_metric.compute(predictions=predictions, references=references)\n",
        "print(\"english model\", model_name, \"squad results\", results)"
      ]
    }
  ],
  "metadata": {
    "colab": {
      "authorship_tag": "ABX9TyObSv3+ilrVHF5vItgMce1Q",
      "name": "Data_Preprocessor.ipynb",
      "provenance": []
    },
    "kernelspec": {
      "display_name": "Python 3",
      "name": "python3"
    },
    "language_info": {
      "codemirror_mode": {
        "name": "ipython",
        "version": 3
      },
      "file_extension": ".py",
      "mimetype": "text/x-python",
      "name": "python",
      "nbconvert_exporter": "python",
      "pygments_lexer": "ipython3",
      "version": "3.10.12"
    }
  },
  "nbformat": 4,
  "nbformat_minor": 0
}
