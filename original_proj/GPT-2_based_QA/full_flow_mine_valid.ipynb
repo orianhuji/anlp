{
  "cells": [
    {
      "cell_type": "markdown",
      "metadata": {
        "id": "hKfvNlxGgDtB"
      },
      "source": [
        "# Installing libraries\n",
        "\n",
        "Installing HuggingFace Transformers (https://github.com/huggingface/transformers)"
      ]
    },
    {
      "cell_type": "code",
      "execution_count": null,
      "metadata": {},
      "outputs": [],
      "source": [
        "!pip install datasets transformers scikit-learn torch pandas evaluate tensorboardX"
      ]
    },
    {
      "cell_type": "markdown",
      "metadata": {
        "id": "tRuKCDbpfQd7"
      },
      "source": [
        "# Dataset processing\n",
        "\n",
        "Uploading the dataset, splitting the data into train, validation and test sets"
      ]
    },
    {
      "cell_type": "code",
      "execution_count": 6,
      "metadata": {},
      "outputs": [],
      "source": [
        "import pandas as pd\n",
        "import json\n",
        "from pathlib import Path"
      ]
    },
    {
      "cell_type": "markdown",
      "metadata": {
        "id": "VkXTOmn7gyee"
      },
      "source": [
        "Getting contexts, questions and answers from the train and validation sets"
      ]
    },
    {
      "cell_type": "code",
      "execution_count": 7,
      "metadata": {
        "id": "Bqqh_4GtfQ44"
      },
      "outputs": [],
      "source": [
        "import pickle\n",
        "from datasets import Dataset, DatasetDict\n",
        "\n",
        "\n",
        "squad_dataset = pickle.load(open(\"../data/squad_dataset.pkl\", 'rb'))"
      ]
    },
    {
      "cell_type": "code",
      "execution_count": 8,
      "metadata": {},
      "outputs": [
        {
          "name": "stderr",
          "output_type": "stream",
          "text": [
            "Map: 100%|██████████| 2901/2901 [00:00<00:00, 21791.34 examples/s]\n",
            "Map: 100%|██████████| 643/643 [00:00<00:00, 21883.80 examples/s]\n",
            "Map: 100%|██████████| 2901/2901 [00:00<00:00, 40928.92 examples/s]\n",
            "Map: 100%|██████████| 643/643 [00:00<00:00, 39087.18 examples/s]\n"
          ]
        }
      ],
      "source": [
        "def add_answer_clean(r):\n",
        "    r['answer_clean'] = '' if r['is_impossible'] else r['answers']['text'][0]\n",
        "    return r\n",
        "\n",
        "squad_dataset = squad_dataset.map(add_answer_clean)\n",
        "\n",
        "\n",
        "def get_text(r):\n",
        "    return {\n",
        "        # 'text': f\"{r['context']}\\n{r['question']}\\n{r['answer_clean']}\" # valid\n",
        "        'text': f\"{r['question']}\\n{r['answer_clean']}\" # invalid used in original source code\n",
        "    }\n",
        "\n",
        "squad_dataset = squad_dataset.map(get_text)\n",
        "squad = squad_dataset"
      ]
    },
    {
      "cell_type": "code",
      "execution_count": null,
      "metadata": {},
      "outputs": [],
      "source": [
        "import os\n",
        "from transformers import GPT2Tokenizer, GPT2LMHeadModel, TrainingArguments, Trainer, DefaultDataCollator\n",
        "import torch\n",
        "import collections\n",
        "from datetime import datetime\n",
        "from tqdm import tqdm\n",
        "from evaluate import load\n",
        "from transformers.utils.logging import set_verbosity_error\n",
        "from transformers import set_seed\n",
        "\n",
        "set_seed(42)\n",
        "\n",
        "set_verbosity_error()\n",
        "squad_v2_metric = load(\"squad_v2\")\n",
        "\n",
        "val_answers = [a['text'][0] for a in squad['validation']['answers']]\n",
        "device = torch.device(\"cuda\" if torch.cuda.is_available() else \"cpu\")\n",
        "\n",
        "train_times = {}\n",
        "# batch = 16 # not enough memory on my PC, using gradient_accumulation_steps\n",
        "batch, lr, epochs, model_name, model_path = 2, 3e-5, 30, 'gpt2-large', 'openai-community/gpt2-large'\n",
        "model = GPT2LMHeadModel.from_pretrained(model_path)\n",
        "tokenizer = GPT2Tokenizer.from_pretrained(model_path)\n",
        "tokenizer.pad_token = tokenizer.eos_token\n",
        "\n",
        "def prepare_train_features(examples):\n",
        "    encoding = tokenizer(\n",
        "        examples[\"text\"],\n",
        "        max_length=512,\n",
        "        padding=\"max_length\",\n",
        "        truncation=True,\n",
        "    )\n",
        "    encoding[\"labels\"] = encoding[\"input_ids\"].copy()\n",
        "    return encoding\n",
        "\n",
        "tokenized_datasets = squad.map(prepare_train_features, batched=True, remove_columns=squad[\"train\"].column_names)\n",
        "tokenized_datasets.set_format(\"torch\")\n",
        "\n",
        "with open(f\"../data/tokenized_{model_name}_datasets.pkl\",\"wb\") as file:\n",
        "    pickle.dump(tokenized_datasets, file)\n",
        "\n",
        "\n",
        "args = TrainingArguments(\n",
        "    output_dir=f\"../models/{model_name}\",\n",
        "    evaluation_strategy = \"epoch\",\n",
        "    save_strategy=\"epoch\", \n",
        "    learning_rate=lr,\n",
        "    per_device_train_batch_size=batch,\n",
        "    per_device_eval_batch_size=batch,\n",
        "    num_train_epochs=epochs,\n",
        "    report_to='tensorboard',\n",
        "    logging_dir=f'../logs/{model_name}',\n",
        "    load_best_model_at_end=True,\n",
        "    gradient_accumulation_steps=int(16 / batch)\n",
        "    # weight_decay=0.01,\n",
        ")\n",
        "\n",
        "resume_from_checkpoint = False\n",
        "if os.path.exists(f\"../models/{model_name}\") and len(os.listdir(f\"../models/{model_name}\")) > 0:\n",
        "    resume_from_checkpoint = True\n",
        "trainer = Trainer(\n",
        "    model=model,\n",
        "    args=args,\n",
        "    train_dataset=tokenized_datasets[\"train\"],\n",
        "    eval_dataset=tokenized_datasets[\"validation\"],\n",
        "    tokenizer=tokenizer,\n",
        ")\n",
        "\n",
        "start_time = datetime.now()\n",
        "trainer.train(resume_from_checkpoint = resume_from_checkpoint)\n",
        "print(\"model\", model_name, \"train time\", datetime.now() - start_time)\n",
        "train_times[model_name] = datetime.now() - start_time\n",
        "\n",
        "trainer.save_model()"
      ]
    },
    {
      "cell_type": "markdown",
      "metadata": {},
      "source": [
        "### time for training in hours!"
      ]
    },
    {
      "cell_type": "code",
      "execution_count": 14,
      "metadata": {},
      "outputs": [
        {
          "data": {
            "text/plain": [
              "3.0375"
            ]
          },
          "execution_count": 14,
          "metadata": {},
          "output_type": "execute_result"
        }
      ],
      "source": [
        "(datetime.now() - start_time).seconds / 60 / 60"
      ]
    },
    {
      "cell_type": "code",
      "execution_count": 14,
      "metadata": {},
      "outputs": [
        {
          "name": "stdout",
          "output_type": "stream",
          "text": [
            "model gpt2-large invalid f1 score 1.0409366168752523\n",
            "model gpt2-large squad results {'exact': 6.842923794712286, 'f1': 13.966658223507563, 'total': 643, 'HasAns_exact': 6.842923794712286, 'HasAns_f1': 13.966658223507563, 'HasAns_total': 643, 'best_exact': 6.842923794712286, 'best_exact_thresh': 0.0, 'best_f1': 13.966658223507563, 'best_f1_thresh': 0.0}\n"
          ]
        }
      ],
      "source": [
        "import torch\n",
        "from transformers import pipeline\n",
        "from transformers import GPT2Tokenizer, GPT2LMHeadModel\n",
        "import collections\n",
        "from tqdm import tqdm\n",
        "\n",
        "from evaluate import load\n",
        "squad_v2_metric = load(\"squad_v2\")\n",
        "\n",
        "\n",
        "model_name = 'gpt2-large'\n",
        "\n",
        "model_path = '../models/gpt2-large'\n",
        "device = torch.device(\"cuda\" if torch.cuda.is_available() else \"cpu\")\n",
        "\n",
        "val_answers = [a['text'][0] for a in squad['validation']['answers']]\n",
        "model = GPT2LMHeadModel.from_pretrained(model_path)\n",
        "tokenizer = GPT2Tokenizer.from_pretrained(model_path)\n",
        "tokenizer.pad_token = tokenizer.eos_token\n",
        "qa_pipeline = pipeline(\"text-generation\", model=model, tokenizer=tokenizer, device=device, max_length=512)\n",
        "\n",
        "\n",
        "squad_dataset = pickle.load(open(\"../data/squad_dataset.pkl\", 'rb'))\n",
        "squad_dataset = squad_dataset.map(add_answer_clean)\n",
        "\n",
        "\n",
        "def get_text(r):\n",
        "    return {\n",
        "        # 'text': f\"{r['context']}\\n{r['question']}\\n\" # valid\n",
        "        'text': f\"{r['question']}\\n\" # invalid used in original source code\n",
        "    }\n",
        "\n",
        "squad_dataset = squad_dataset.map(get_text)\n",
        "squad = squad_dataset\n",
        "\n",
        "eval_answers = []\n",
        "\n",
        "for item in tqdm(squad['validation']):\n",
        "    input_text = get_text(item)['text']\n",
        "    output = qa_pipeline(input_text, num_return_sequences=1)\n",
        "    prediction = output[0]['generated_text'].split(\"\\n\")[1].strip()\n",
        "    eval_answers.append(prediction)\n",
        "\n",
        "num_c = []\n",
        "num_p = []\n",
        "num_g = []\n",
        "\n",
        "for a in range(len(eval_answers)):\n",
        "\n",
        "    common = collections.Counter(eval_answers[a].split()) & collections.Counter(eval_answers[a].split()) # tokens shared between gold and predicted answers\n",
        "    num_common = sum(common.values())\n",
        "\n",
        "    num_pred = len(str(eval_answers[a]).split()) # the number of predicted tokens\n",
        "\n",
        "    num_gold = len(str(val_answers[a]).split()) # the number of gold tokens\n",
        "\n",
        "    num_c.append(num_common)\n",
        "    num_p.append(num_pred)\n",
        "    num_g.append(num_gold)\n",
        "\n",
        "precision = 1.0 * sum(num_c) / sum(num_p) # the num of tokens shared between gold and predicted answers / the num of predicted tokens\n",
        "recall = 1.0 * sum(num_c) / sum(num_g) # the num of tokens shared between gold and predicted answers / the num of gold tokens\n",
        "invalid_f1_score= (2 * precision * recall) / (precision + recall)\n",
        "print(\"model\", model_name, \"invalid f1 score\", invalid_f1_score)\n",
        "\n",
        "predictions = [{'prediction_text': a, 'id': str(idx), 'no_answer_probability': 0.} for idx, a in enumerate(eval_answers)]\n",
        "references = [{'answers': a, 'id': str(idx)} for idx, a in enumerate(squad['validation']['answers'])]\n",
        "\n",
        "results = squad_v2_metric.compute(predictions=predictions, references=references)\n",
        "print(\"model\", model_name, \"squad results\", results)"
      ]
    },
    {
      "cell_type": "markdown",
      "metadata": {},
      "source": [
        "### testing better checkpoint"
      ]
    }
  ],
  "metadata": {
    "colab": {
      "authorship_tag": "ABX9TyObSv3+ilrVHF5vItgMce1Q",
      "name": "Data_Preprocessor.ipynb",
      "provenance": []
    },
    "kernelspec": {
      "display_name": "Python 3",
      "name": "python3"
    },
    "language_info": {
      "codemirror_mode": {
        "name": "ipython",
        "version": 3
      },
      "file_extension": ".py",
      "mimetype": "text/x-python",
      "name": "python",
      "nbconvert_exporter": "python",
      "pygments_lexer": "ipython3",
      "version": "3.10.12"
    }
  },
  "nbformat": 4,
  "nbformat_minor": 0
}
