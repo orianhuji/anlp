{
  "cells": [
    {
      "cell_type": "markdown",
      "metadata": {
        "id": "hKfvNlxGgDtB"
      },
      "source": [
        "# Installing libraries\n",
        "\n",
        "Installing HuggingFace Transformers (https://github.com/huggingface/transformers)"
      ]
    },
    {
      "cell_type": "code",
      "execution_count": null,
      "metadata": {},
      "outputs": [],
      "source": [
        "!pip install datasets transformers scikit-learn torch pandas evaluate tensorboardX"
      ]
    },
    {
      "cell_type": "markdown",
      "metadata": {
        "id": "tRuKCDbpfQd7"
      },
      "source": [
        "# Dataset processing\n",
        "\n",
        "Uploading the dataset, splitting the data into train, validation and test sets"
      ]
    },
    {
      "cell_type": "code",
      "execution_count": 1,
      "metadata": {},
      "outputs": [
        {
          "name": "stderr",
          "output_type": "stream",
          "text": [
            "/home/orian/PycharmProjects/ANLP/venv/lib/python3.10/site-packages/tqdm/auto.py:21: TqdmWarning: IProgress not found. Please update jupyter and ipywidgets. See https://ipywidgets.readthedocs.io/en/stable/user_install.html\n",
            "  from .autonotebook import tqdm as notebook_tqdm\n"
          ]
        }
      ],
      "source": [
        "import pandas as pd\n",
        "from datasets import Dataset, DatasetDict\n",
        "\n",
        "\n",
        "exploded_df = pd.json_normalize(pd.json_normalize(pd.read_json('../data/translated_alina.json')['data'])['paragraphs'].explode())\n",
        "exploded_df = exploded_df[~exploded_df['context_en'].isna()].reset_index(drop=True)\n",
        "exploded_df = exploded_df.drop('qas', axis=1).join(pd.DataFrame(exploded_df['qas'].explode())).reset_index(drop=True)\n",
        "exploded_df = exploded_df.join(pd.json_normalize(exploded_df['qas'])).drop('qas', axis=1)\n",
        "exploded_df = exploded_df[~exploded_df['question_en'].isna()].reset_index(drop=True)\n",
        "\n",
        "exploded_df['answers'] = exploded_df['answers'].apply(lambda an: {\n",
        "    'text_en': [an[0]['text_en']],\n",
        "    'answer_start_en': [an[0]['answer_start']],\n",
        "    'answer_end_en': [an[0]['answer_end']],\n",
        "})\n",
        "\n",
        "alina_translation = Dataset.from_pandas(exploded_df)\n",
        "\n",
        "squad_alina = DatasetDict({\n",
        "    'validation': alina_translation,\n",
        "    'train': alina_translation\n",
        "})"
      ]
    },
    {
      "cell_type": "markdown",
      "metadata": {
        "id": "VkXTOmn7gyee"
      },
      "source": [
        "Getting contexts, questions and answers from the train and validation sets"
      ]
    },
    {
      "cell_type": "code",
      "execution_count": 2,
      "metadata": {},
      "outputs": [
        {
          "name": "stderr",
          "output_type": "stream",
          "text": [
            "Map: 100%|██████████| 51/51 [00:00<00:00, 11942.25 examples/s]\n",
            "Map: 100%|██████████| 51/51 [00:00<00:00, 13232.06 examples/s]\n",
            "Map: 100%|██████████| 51/51 [00:00<00:00, 14278.72 examples/s]\n",
            "Map: 100%|██████████| 51/51 [00:00<00:00, 12475.04 examples/s]\n"
          ]
        }
      ],
      "source": [
        "def add_answer_clean(r):\n",
        "    r['answer_clean'] = '' if r['is_impossible'] else r['answers']['text_en'][0]\n",
        "    return r\n",
        "\n",
        "squad_alina = squad_alina.map(add_answer_clean)\n",
        "\n",
        "\n",
        "def get_text(r):\n",
        "    return {\n",
        "        'text': f\"{r['context_en']}\\n{r['question_en']}\\n{r['answer_clean']}\" # valid\n",
        "        # 'text': f\"{r['question']}\\n{r['answer_clean']}\" # invalid used in paper\n",
        "    }\n",
        "\n",
        "squad_alina = squad_alina.map(get_text)"
      ]
    },
    {
      "cell_type": "code",
      "execution_count": 3,
      "metadata": {},
      "outputs": [
        {
          "name": "stderr",
          "output_type": "stream",
          "text": [
            "2024-08-25 06:48:28.479377: I tensorflow/core/util/port.cc:153] oneDNN custom operations are on. You may see slightly different numerical results due to floating-point round-off errors from different computation orders. To turn them off, set the environment variable `TF_ENABLE_ONEDNN_OPTS=0`.\n",
            "2024-08-25 06:48:28.486091: E external/local_xla/xla/stream_executor/cuda/cuda_fft.cc:485] Unable to register cuFFT factory: Attempting to register factory for plugin cuFFT when one has already been registered\n",
            "2024-08-25 06:48:28.493958: E external/local_xla/xla/stream_executor/cuda/cuda_dnn.cc:8454] Unable to register cuDNN factory: Attempting to register factory for plugin cuDNN when one has already been registered\n",
            "2024-08-25 06:48:28.496323: E external/local_xla/xla/stream_executor/cuda/cuda_blas.cc:1452] Unable to register cuBLAS factory: Attempting to register factory for plugin cuBLAS when one has already been registered\n",
            "2024-08-25 06:48:28.502545: I tensorflow/core/platform/cpu_feature_guard.cc:210] This TensorFlow binary is optimized to use available CPU instructions in performance-critical operations.\n",
            "To enable the following instructions: AVX2 AVX_VNNI FMA, in other operations, rebuild TensorFlow with the appropriate compiler flags.\n",
            "2024-08-25 06:48:28.950138: W tensorflow/compiler/tf2tensorrt/utils/py_utils.cc:38] TF-TRT Warning: Could not find TensorRT\n",
            "Map: 100%|██████████| 51/51 [00:00<00:00, 2266.37 examples/s]\n",
            "Map: 100%|██████████| 51/51 [00:00<00:00, 2409.00 examples/s]\n",
            "/home/orian/PycharmProjects/ANLP/venv/lib/python3.10/site-packages/transformers/training_args.py:1474: FutureWarning: `evaluation_strategy` is deprecated and will be removed in version 4.46 of 🤗 Transformers. Use `eval_strategy` instead\n",
            "  warnings.warn(\n"
          ]
        },
        {
          "name": "stdout",
          "output_type": "stream",
          "text": [
            "{'eval_loss': 6.727468490600586, 'eval_runtime': 1.5704, 'eval_samples_per_second': 32.477, 'eval_steps_per_second': 16.557, 'epoch': 0.9230769230769231}\n",
            "{'eval_loss': 5.323511600494385, 'eval_runtime': 1.5804, 'eval_samples_per_second': 32.27, 'eval_steps_per_second': 16.451, 'epoch': 1.8461538461538463}\n",
            "{'eval_loss': 4.370235443115234, 'eval_runtime': 1.5826, 'eval_samples_per_second': 32.226, 'eval_steps_per_second': 16.429, 'epoch': 2.769230769230769}\n",
            "{'eval_loss': 1.9847495555877686, 'eval_runtime': 1.6227, 'eval_samples_per_second': 31.429, 'eval_steps_per_second': 16.023, 'epoch': 4.0}\n",
            "{'eval_loss': 2.892378330230713, 'eval_runtime': 1.5607, 'eval_samples_per_second': 32.678, 'eval_steps_per_second': 16.66, 'epoch': 4.923076923076923}\n",
            "{'eval_loss': 1.9995218515396118, 'eval_runtime': 1.661, 'eval_samples_per_second': 30.704, 'eval_steps_per_second': 15.653, 'epoch': 5.538461538461538}\n",
            "{'train_runtime': 75.2747, 'train_samples_per_second': 4.065, 'train_steps_per_second': 0.239, 'train_loss': 5.833159976535374, 'epoch': 5.538461538461538}\n",
            "english model alina-en_gpt2-large train time 0:01:15.372490\n"
          ]
        }
      ],
      "source": [
        "import pickle\n",
        "from transformers import GPT2Tokenizer, GPT2LMHeadModel, TrainingArguments, Trainer\n",
        "import torch\n",
        "import collections\n",
        "from datetime import datetime\n",
        "from tqdm import tqdm\n",
        "from evaluate import load\n",
        "from transformers.utils.logging import set_verbosity_error\n",
        "from transformers import set_seed\n",
        "\n",
        "set_seed(42)\n",
        "set_verbosity_error()\n",
        "squad_v2_metric = load(\"squad_v2\")\n",
        "\n",
        "val_answers = [a['text_en'][0] for a in squad_alina['validation']['answers']]\n",
        "device = torch.device(\"cuda\" if torch.cuda.is_available() else \"cpu\")\n",
        "\n",
        "train_times = {}\n",
        "# batch = 16 # not enough memory on my PC, using gradient_accumulation_steps\n",
        "batch, lr, epochs, model_name, model_path = 2, 3e-3, 6, 'alina-en_gpt2-large', 'openai-community/gpt2-large'\n",
        "model = GPT2LMHeadModel.from_pretrained(model_path)\n",
        "tokenizer = GPT2Tokenizer.from_pretrained(model_path)\n",
        "tokenizer.pad_token = tokenizer.eos_token\n",
        "\n",
        "def prepare_train_features(examples):\n",
        "    encoding = tokenizer(\n",
        "        examples[\"text\"],\n",
        "        max_length=512,\n",
        "        padding=\"max_length\",\n",
        "        truncation=True,\n",
        "    )\n",
        "    encoding[\"labels\"] = encoding[\"input_ids\"].copy()\n",
        "    return encoding\n",
        "\n",
        "tokenized_datasets = squad_alina.map(prepare_train_features, batched=True, remove_columns=squad_alina[\"train\"].column_names)\n",
        "tokenized_datasets.set_format(\"torch\")\n",
        "\n",
        "with open(f\"../data/english_tokenized_{model_name}_datasets.pkl\",\"wb\") as file:\n",
        "    pickle.dump(tokenized_datasets, file)\n",
        "\n",
        "\n",
        "args = TrainingArguments(\n",
        "    output_dir=f\"../models/{model_name}\",\n",
        "    evaluation_strategy = \"epoch\",\n",
        "    save_strategy=\"epoch\", \n",
        "    learning_rate=lr,\n",
        "    per_device_train_batch_size=batch,\n",
        "    per_device_eval_batch_size=batch,\n",
        "    num_train_epochs=epochs,\n",
        "    report_to='tensorboard',\n",
        "    logging_dir=f'../logs/{model_name}',\n",
        "    load_best_model_at_end=True,\n",
        "    gradient_accumulation_steps=int(16 / batch)\n",
        "    # weight_decay=0.01,\n",
        ")\n",
        "\n",
        "\n",
        "trainer = Trainer(\n",
        "    model=model,\n",
        "    args=args,\n",
        "    train_dataset=tokenized_datasets[\"train\"],\n",
        "    eval_dataset=tokenized_datasets[\"validation\"],\n",
        "    tokenizer=tokenizer,\n",
        ")\n",
        "\n",
        "start_time = datetime.now()\n",
        "trainer.train()\n",
        "print(\"english model\", model_name, \"train time\", datetime.now() - start_time)\n",
        "train_times[model_name] = datetime.now() - start_time\n",
        "\n",
        "trainer.save_model()"
      ]
    },
    {
      "cell_type": "code",
      "execution_count": 4,
      "metadata": {},
      "outputs": [
        {
          "data": {
            "text/plain": [
              "{'alina-en_gpt2-large': datetime.timedelta(seconds=75, microseconds=372526)}"
            ]
          },
          "execution_count": 4,
          "metadata": {},
          "output_type": "execute_result"
        }
      ],
      "source": [
        "train_times"
      ]
    },
    {
      "cell_type": "code",
      "execution_count": 8,
      "metadata": {},
      "outputs": [
        {
          "name": "stderr",
          "output_type": "stream",
          "text": [
            "Map: 100%|██████████| 51/51 [00:00<00:00, 2326.29 examples/s]\n",
            "Map: 100%|██████████| 51/51 [00:00<00:00, 2448.37 examples/s]\n",
            "100%|██████████| 51/51 [00:00<00:00, 68.55it/s]"
          ]
        },
        {
          "name": "stdout",
          "output_type": "stream",
          "text": [
            "english model alina-en_gpt2-large invalid f1 score 0.7575757575757575\n",
            "english model alina-en_gpt2-large squad results {'exact': 3.9215686274509802, 'f1': 18.902089253130494, 'total': 51, 'HasAns_exact': 3.9215686274509802, 'HasAns_f1': 18.902089253130494, 'HasAns_total': 51, 'best_exact': 3.9215686274509802, 'best_exact_thresh': 0.0, 'best_f1': 18.902089253130494, 'best_f1_thresh': 0.0}\n"
          ]
        },
        {
          "name": "stderr",
          "output_type": "stream",
          "text": [
            "\n"
          ]
        }
      ],
      "source": [
        "import torch\n",
        "from transformers import pipeline\n",
        "from transformers import GPT2Tokenizer, GPT2LMHeadModel\n",
        "import collections\n",
        "from tqdm import tqdm\n",
        "\n",
        "from evaluate import load\n",
        "squad_v2_metric = load(\"squad_v2\")\n",
        "\n",
        "model_name = 'alina-en_gpt2-large'\n",
        "model_path = f\"../models/{model_name}\"\n",
        "\n",
        "model = GPT2LMHeadModel.from_pretrained(model_path)\n",
        "tokenizer = GPT2Tokenizer.from_pretrained(model_path)\n",
        "tokenizer.pad_token = tokenizer.eos_token\n",
        "qa_pipeline = pipeline(\"text-generation\", model=model, tokenizer=tokenizer, device=device, max_length=512)\n",
        "\n",
        "tokenized_datasets = squad_alina.map(prepare_train_features, batched=True, remove_columns=squad_alina[\"train\"].column_names)\n",
        "\n",
        "eval_answers = []\n",
        "\n",
        "for item in tqdm(squad_alina['validation']):\n",
        "    input_text = get_text(item)['text']\n",
        "    output = qa_pipeline(input_text, num_return_sequences=1)\n",
        "    prediction = output[0]['generated_text'].split(\"\\n\")[1].strip()\n",
        "    eval_answers.append(prediction)\n",
        "\n",
        "num_c = []\n",
        "num_p = []\n",
        "num_g = []\n",
        "\n",
        "for a in range(len(eval_answers)):\n",
        "\n",
        "    common = collections.Counter(eval_answers[a].split()) & collections.Counter(eval_answers[a].split()) # tokens shared between gold and predicted answers\n",
        "    num_common = sum(common.values())\n",
        "\n",
        "    num_pred = len(str(eval_answers[a]).split()) # the number of predicted tokens\n",
        "\n",
        "    num_gold = len(str(val_answers[a]).split()) # the number of gold tokens\n",
        "\n",
        "    num_c.append(num_common)\n",
        "    num_p.append(num_pred)\n",
        "    num_g.append(num_gold)\n",
        "\n",
        "precision = 1.0 * sum(num_c) / sum(num_p) # the num of tokens shared between gold and predicted answers / the num of predicted tokens\n",
        "recall = 1.0 * sum(num_c) / sum(num_g) # the num of tokens shared between gold and predicted answers / the num of gold tokens\n",
        "invalid_f1_score= (2 * precision * recall) / (precision + recall)\n",
        "print(\"english model\", model_name, \"invalid f1 score\", invalid_f1_score)\n",
        "\n",
        "predictions = [{'prediction_text': a, 'id': str(idx), 'no_answer_probability': 0.} for idx, a in enumerate(eval_answers)]\n",
        "references = [{'answers': a, 'id': str(idx)} for idx, a in enumerate([{'text': r['text_en'], 'answer_start': r['answer_start_en']} for r in squad_alina['validation']['answers']])]\n",
        "\n",
        "results = squad_v2_metric.compute(predictions=predictions, references=references)\n",
        "print(\"english model\", model_name, \"squad results\", results)"
      ]
    },
    {
      "cell_type": "code",
      "execution_count": 9,
      "metadata": {},
      "outputs": [
        {
          "name": "stderr",
          "output_type": "stream",
          "text": [
            "Map: 100%|██████████| 2901/2901 [00:00<00:00, 17076.07 examples/s]\n",
            "Map: 100%|██████████| 643/643 [00:00<00:00, 18431.78 examples/s]\n",
            "Map: 100%|██████████| 2901/2901 [00:00<00:00, 32808.91 examples/s]\n",
            "Map: 100%|██████████| 643/643 [00:00<00:00, 29874.36 examples/s]\n"
          ]
        }
      ],
      "source": [
        "import pandas as pd\n",
        "from datasets import DatasetDict, Dataset\n",
        "\n",
        "\n",
        "train_data = pd.read_json('../data/translated_Unbabel_TowerInstruct-v0.1_substring_logic_train.json', lines=True, encoding='utf-8')\n",
        "\n",
        "validation_data = pd.read_json('../data/translated_Unbabel_TowerInstruct-v0.1_substring_logic_validation.json', lines=True, encoding='utf-8')\n",
        "\n",
        "\n",
        "squad = DatasetDict(\n",
        "    {'train': Dataset.from_pandas(train_data).shuffle(),\n",
        "     'validation': Dataset.from_pandas(validation_data).shuffle()\n",
        "     })\n",
        "\n",
        "def add_answer_clean(r):\n",
        "    r['answer_clean'] = '' if r['is_impossible'] else r['answers']['text_en'][0]\n",
        "    return r\n",
        "\n",
        "squad = squad.map(add_answer_clean)\n",
        "\n",
        "\n",
        "def get_text(r):\n",
        "    return {\n",
        "        'text': f\"{r['context_en']}\\n{r['question_en']}\\n{r['answer_clean']}\" # valid\n",
        "        # 'text': f\"{r['question']}\\n{r['answer_clean']}\" # invalid used in paper\n",
        "    }\n",
        "\n",
        "squad = squad.map(get_text)"
      ]
    },
    {
      "cell_type": "code",
      "execution_count": 12,
      "metadata": {},
      "outputs": [
        {
          "name": "stderr",
          "output_type": "stream",
          "text": [
            "Map: 100%|██████████| 2901/2901 [00:00<00:00, 3208.87 examples/s]\n",
            "Map: 100%|██████████| 643/643 [00:00<00:00, 2982.35 examples/s]\n",
            "100%|██████████| 643/643 [00:09<00:00, 65.71it/s]"
          ]
        },
        {
          "name": "stdout",
          "output_type": "stream",
          "text": [
            "english model alina-en_gpt2-large invalid f1 score 0.6212649780069771\n",
            "english model alina-en_gpt2-large squad results {'exact': 0.6220839813374806, 'f1': 17.33052741938087, 'total': 643, 'HasAns_exact': 0.6220839813374806, 'HasAns_f1': 17.33052741938087, 'HasAns_total': 643, 'best_exact': 0.6220839813374806, 'best_exact_thresh': 0.0, 'best_f1': 17.33052741938087, 'best_f1_thresh': 0.0}\n"
          ]
        },
        {
          "name": "stderr",
          "output_type": "stream",
          "text": [
            "\n"
          ]
        }
      ],
      "source": [
        "import torch\n",
        "from transformers import pipeline\n",
        "from transformers import GPT2Tokenizer, GPT2LMHeadModel\n",
        "import collections\n",
        "from tqdm import tqdm\n",
        "\n",
        "from evaluate import load\n",
        "squad_v2_metric = load(\"squad_v2\")\n",
        "\n",
        "model_name = 'alina-en_gpt2-large'\n",
        "model_path = f\"../models/{model_name}\"\n",
        "\n",
        "model = GPT2LMHeadModel.from_pretrained(model_path)\n",
        "tokenizer = GPT2Tokenizer.from_pretrained(model_path)\n",
        "tokenizer.pad_token = tokenizer.eos_token\n",
        "qa_pipeline = pipeline(\"text-generation\", model=model, tokenizer=tokenizer, device=device, max_length=512)\n",
        "\n",
        "tokenized_datasets = squad.map(prepare_train_features, batched=True, remove_columns=squad[\"train\"].column_names)\n",
        "\n",
        "val_answers = [a['text_en'][0] for a in squad['validation']['answers']]\n",
        "eval_answers = []\n",
        "\n",
        "for item in tqdm(squad['validation']):\n",
        "    input_text = get_text(item)['text']\n",
        "    output = qa_pipeline(input_text, num_return_sequences=1)\n",
        "    prediction = output[0]['generated_text'].split(\"\\n\")[1].strip()\n",
        "    eval_answers.append(prediction)\n",
        "\n",
        "num_c = []\n",
        "num_p = []\n",
        "num_g = []\n",
        "\n",
        "for a in range(len(eval_answers)):\n",
        "\n",
        "    common = collections.Counter(eval_answers[a].split()) & collections.Counter(eval_answers[a].split()) # tokens shared between gold and predicted answers\n",
        "    num_common = sum(common.values())\n",
        "\n",
        "    num_pred = len(str(eval_answers[a]).split()) # the number of predicted tokens\n",
        "\n",
        "    num_gold = len(str(val_answers[a]).split()) # the number of gold tokens\n",
        "\n",
        "    num_c.append(num_common)\n",
        "    num_p.append(num_pred)\n",
        "    num_g.append(num_gold)\n",
        "\n",
        "precision = 1.0 * sum(num_c) / sum(num_p) # the num of tokens shared between gold and predicted answers / the num of predicted tokens\n",
        "recall = 1.0 * sum(num_c) / sum(num_g) # the num of tokens shared between gold and predicted answers / the num of gold tokens\n",
        "invalid_f1_score= (2 * precision * recall) / (precision + recall)\n",
        "print(\"english model\", model_name, \"invalid f1 score\", invalid_f1_score)\n",
        "\n",
        "predictions = [{'prediction_text': a, 'id': str(idx), 'no_answer_probability': 0.} for idx, a in enumerate(eval_answers)]\n",
        "references = [{'answers': a, 'id': str(idx)} for idx, a in enumerate([{'text': r['text_en'], 'answer_start': r['answer_start_en']} for r in squad['validation']['answers']])]\n",
        "\n",
        "results = squad_v2_metric.compute(predictions=predictions, references=references)\n",
        "print(\"english model\", model_name, \"squad results\", results)"
      ]
    }
  ],
  "metadata": {
    "colab": {
      "authorship_tag": "ABX9TyObSv3+ilrVHF5vItgMce1Q",
      "name": "Data_Preprocessor.ipynb",
      "provenance": []
    },
    "kernelspec": {
      "display_name": "Python 3",
      "name": "python3"
    },
    "language_info": {
      "codemirror_mode": {
        "name": "ipython",
        "version": 3
      },
      "file_extension": ".py",
      "mimetype": "text/x-python",
      "name": "python",
      "nbconvert_exporter": "python",
      "pygments_lexer": "ipython3",
      "version": "3.10.12"
    }
  },
  "nbformat": 4,
  "nbformat_minor": 0
}
