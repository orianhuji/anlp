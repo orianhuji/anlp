{
  "cells": [
    {
      "cell_type": "markdown",
      "metadata": {
        "id": "bCUwmG6-yaW6"
      },
      "source": [
        "## Importing libraries"
      ]
    },
    {
      "cell_type": "code",
      "execution_count": 2,
      "metadata": {
        "id": "BW3Kx4oSm5Yx"
      },
      "outputs": [],
      "source": [
        "from collections import Counter"
      ]
    },
    {
      "cell_type": "markdown",
      "metadata": {
        "id": "1NUtwgpkyapY"
      },
      "source": [
        "## Obtaining the results on the validation set\n",
        "\n",
        "Sending the model to CPU"
      ]
    },
    {
      "cell_type": "code",
      "execution_count": 3,
      "metadata": {
        "id": "4mBNSmbRS5Li"
      },
      "outputs": [
        {
          "name": "stderr",
          "output_type": "stream",
          "text": [
            "/home/orian/PycharmProjects/ANLP/venv/lib/python3.10/site-packages/tqdm/auto.py:21: TqdmWarning: IProgress not found. Please update jupyter and ipywidgets. See https://ipywidgets.readthedocs.io/en/stable/user_install.html\n",
            "  from .autonotebook import tqdm as notebook_tqdm\n",
            "Some weights of BertForQuestionAnswering were not initialized from the model checkpoint at bert-base-multilingual-cased and are newly initialized: ['qa_outputs.bias', 'qa_outputs.weight']\n",
            "You should probably TRAIN this model on a down-stream task to be able to use it for predictions and inference.\n"
          ]
        }
      ],
      "source": [
        "# model.to('cpu')\n",
        "import torch\n",
        "import pickle\n",
        "from transformers import AutoTokenizer\n",
        "from transformers import BertForQuestionAnswering\n",
        "\n",
        "filepath = '../models/m-bert.pth' # saving weights\n",
        "tokenizer = AutoTokenizer.from_pretrained('bert-base-multilingual-cased')\n",
        "\n",
        "model = BertForQuestionAnswering.from_pretrained(\"bert-base-multilingual-cased\")\n",
        "model.load_state_dict(torch.load(filepath))\n",
        "model.eval() # model summary\n",
        "\n",
        "with open(\"../data/val_answers.pkl\",\"rb\") as file:\n",
        "    val_answers = pickle.load(file)\n",
        "\n",
        "with open(\"../data/val_contexts.pkl\",\"rb\") as file:\n",
        "    val_contexts = pickle.load(file)\n",
        "\n",
        "with open(\"../data/val_questions.pkl\",\"rb\") as file:\n",
        "    val_questions = pickle.load(file)"
      ]
    },
    {
      "cell_type": "markdown",
      "metadata": {
        "id": "d4R0NToRyhw1"
      },
      "source": [
        "Getting the model answers to evaluate"
      ]
    },
    {
      "cell_type": "code",
      "execution_count": 4,
      "metadata": {
        "id": "rlMGdNmKyh_k"
      },
      "outputs": [],
      "source": [
        "eval_answers = []\n",
        "\n",
        "for i in range(len(val_questions)):\n",
        "  question, text = val_questions[i], val_contexts[i]\n",
        "\n",
        "  input_text = \"[CLS] \" + question + \" [SEP] \" + text + \" [SEP]\"\n",
        "\n",
        "  input_ids = tokenizer.encode(input_text)\n",
        "  token_type_ids = [0 if i <= input_ids.index(102) else 1\n",
        "      for i in range(len(input_ids))]\n",
        "\n",
        "  model_response = model(torch.tensor([input_ids]), \\\n",
        "      token_type_ids=torch.tensor([token_type_ids]))\n",
        "  \n",
        "  start_scores = model_response['start_logits']\n",
        "  end_scores = model_response['end_logits']\n",
        "\n",
        "  all_tokens = tokenizer.convert_ids_to_tokens(input_ids)\n",
        "  ans = ' '.join(all_tokens[torch.argmax(start_scores) : torch.argmax(end_scores)+1])\n",
        "\n",
        "  eval_answers.append(ans)"
      ]
    },
    {
      "cell_type": "markdown",
      "metadata": {
        "id": "1tOsaLP-ya5N"
      },
      "source": [
        "Computing Precision, Recall and F1-Score"
      ]
    },
    {
      "cell_type": "code",
      "execution_count": 5,
      "metadata": {
        "id": "pJZUab9gEqJD"
      },
      "outputs": [],
      "source": [
        "import collections\n",
        "\n",
        "num_c = []\n",
        "num_p = []\n",
        "num_g = []\n",
        "\n",
        "for a in range(len(eval_answers)):\n",
        "\n",
        "  common = collections.Counter(eval_answers[a].split()) & collections.Counter(eval_answers[a].split()) # tokens shared between gold and predicted answers\n",
        "  num_common = sum(common.values())\n",
        "\n",
        "  num_pred = len(str(eval_answers[a]).split()) # the number of predicted tokens\n",
        "\n",
        "  num_gold = len(str(val_answers[a]).split()) # the number of gold tokens\n",
        "\n",
        "  num_c.append(num_common)\n",
        "  num_p.append(num_pred)\n",
        "  num_g.append(num_gold)\n",
        "\n",
        "precision = 1.0 * sum(num_c) / sum(num_p) # the num of tokens shared between gold and predicted answers / the num of predicted tokens\n",
        "recall = 1.0 * sum(num_c) / sum(num_g) # the num of tokens shared between gold and predicted answers / the num of gold tokens\n",
        "f1_score= (2 * precision * recall) / (precision + recall)"
      ]
    },
    {
      "cell_type": "code",
      "execution_count": 6,
      "metadata": {},
      "outputs": [
        {
          "data": {
            "text/plain": [
              "0.7358153007326632"
            ]
          },
          "execution_count": 6,
          "metadata": {},
          "output_type": "execute_result"
        }
      ],
      "source": [
        "f1_score"
      ]
    }
  ],
  "metadata": {
    "colab": {
      "authorship_tag": "ABX9TyPbGKXLmQszqZwpzI8FoQNj",
      "collapsed_sections": [],
      "name": "Model_Evaluator",
      "provenance": []
    },
    "kernelspec": {
      "display_name": "Python 3",
      "name": "python3"
    },
    "language_info": {
      "codemirror_mode": {
        "name": "ipython",
        "version": 3
      },
      "file_extension": ".py",
      "mimetype": "text/x-python",
      "name": "python",
      "nbconvert_exporter": "python",
      "pygments_lexer": "ipython3",
      "version": "3.10.12"
    }
  },
  "nbformat": 4,
  "nbformat_minor": 0
}
