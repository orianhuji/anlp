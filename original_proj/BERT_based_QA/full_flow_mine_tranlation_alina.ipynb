{
  "cells": [
    {
      "cell_type": "markdown",
      "metadata": {
        "id": "hKfvNlxGgDtB"
      },
      "source": [
        "# Installing libraries\n",
        "\n",
        "Installing HuggingFace Transformers (https://github.com/huggingface/transformers)"
      ]
    },
    {
      "cell_type": "code",
      "execution_count": null,
      "metadata": {},
      "outputs": [],
      "source": [
        "!pip install datasets transformers scikit-learn torch pandas evaluate tensorboardX"
      ]
    },
    {
      "cell_type": "markdown",
      "metadata": {
        "id": "tRuKCDbpfQd7"
      },
      "source": [
        "# Dataset processing\n",
        "\n",
        "Uploading the dataset, splitting the data into train, validation and test sets"
      ]
    },
    {
      "cell_type": "code",
      "execution_count": null,
      "metadata": {},
      "outputs": [],
      "source": [
        "import pandas as pd\n",
        "from datasets import DatasetDict, Dataset\n",
        "\n",
        "\n",
        "exploded_df = pd.json_normalize(pd.json_normalize(pd.read_json('../data/translated_alina.json')['data'])['paragraphs'].explode())\n",
        "exploded_df = exploded_df[~exploded_df['context_en'].isna()].reset_index(drop=True)\n",
        "exploded_df = exploded_df.drop('qas', axis=1).join(pd.DataFrame(exploded_df['qas'].explode())).reset_index(drop=True)\n",
        "exploded_df = exploded_df.join(pd.json_normalize(exploded_df['qas'])).drop('qas', axis=1)\n",
        "exploded_df = exploded_df[~exploded_df['question_en'].isna()].reset_index(drop=True)\n",
        "\n",
        "exploded_df['answers'] = exploded_df['answers'].apply(lambda an: {\n",
        "    'text_en': [an[0]['text_en']],\n",
        "    'answer_start_en': [an[0]['answer_start']],\n",
        "    'answer_end_en': [an[0]['answer_end']],\n",
        "})\n",
        "\n",
        "alina_translation = Dataset.from_pandas(exploded_df)\n",
        "\n",
        "squad_alina = DatasetDict({\n",
        "    'validation': alina_translation,\n",
        "    'train': alina_translation\n",
        "})"
      ]
    },
    {
      "cell_type": "markdown",
      "metadata": {
        "id": "VkXTOmn7gyee"
      },
      "source": [
        "Getting contexts, questions and answers from the train and validation sets"
      ]
    },
    {
      "cell_type": "code",
      "execution_count": 4,
      "metadata": {},
      "outputs": [],
      "source": [
        "def prepare_train_features(examples):\n",
        "    # Tokenize our examples with truncation and padding, but keep the overflows using a stride.\n",
        "    # This results in one example possible giving several features when a context is long,\n",
        "    # each of those features having a context that overlaps a bit the context of the previous feature.\n",
        "    tokenized_examples = tokenizer(\n",
        "        examples[\"question_en\"],\n",
        "        examples[\"context_en\"],\n",
        "        truncation=\"only_second\",  # truncate context, not the question\n",
        "        max_length=512,\n",
        "        stride=128,\n",
        "        return_overflowing_tokens=True,\n",
        "        return_offsets_mapping=True,\n",
        "        padding=\"max_length\",\n",
        "    )\n",
        "\n",
        "    # Since one example might give us several features if it has a long context, we need a map from a feature to\n",
        "    # its corresponding example. This key gives us just that.\n",
        "    sample_mapping = tokenized_examples.pop(\"overflow_to_sample_mapping\")\n",
        "    # The offset mappings will give us a map from token to character position in the original context.\n",
        "    # This will help us compute the start_positions and end_positions.\n",
        "    offset_mapping = tokenized_examples.pop(\"offset_mapping\")\n",
        "\n",
        "    # Let's label those examples!\n",
        "    tokenized_examples[\"start_positions\"] = []\n",
        "    tokenized_examples[\"end_positions\"] = []\n",
        "\n",
        "    for i, offsets in enumerate(offset_mapping):\n",
        "        # We will label impossible answers with the index of the CLS token.\n",
        "        input_ids = tokenized_examples[\"input_ids\"][i]\n",
        "        cls_index = input_ids.index(tokenizer.cls_token_id)\n",
        "\n",
        "        # Grab the sequence corresponding to that example (to know what is the context and what is the question).\n",
        "        sequence_ids = tokenized_examples.sequence_ids(i)\n",
        "\n",
        "        # One example can give several spans, this is the index of the example containing this span of text.\n",
        "        sample_index = sample_mapping[i]\n",
        "        answers = examples[\"answers\"][sample_index]\n",
        "        # If no answers are given, set the cls_index as answer.\n",
        "        if len(answers[\"answer_start_en\"]) == 0:\n",
        "            tokenized_examples[\"start_positions\"].append(cls_index)\n",
        "            tokenized_examples[\"end_positions\"].append(cls_index)\n",
        "        else:\n",
        "            # Start/end character index of the answer in the text.\n",
        "            start_char = answers[\"answer_start_en\"][0]\n",
        "            end_char = start_char + len(answers[\"text_en\"][0])\n",
        "\n",
        "            # Start token index of the current span in the text.\n",
        "            token_start_index = 0\n",
        "            while sequence_ids[token_start_index] != 1:\n",
        "                token_start_index += 1\n",
        "\n",
        "            # End token index of the current span in the text.\n",
        "            token_end_index = len(input_ids) - 1\n",
        "            while sequence_ids[token_end_index] != 1:\n",
        "                token_end_index -= 1\n",
        "\n",
        "            # Detect if the answer is out of the span (in which case this feature is labeled with the CLS index).\n",
        "            if not (offsets[token_start_index][0] <= start_char and offsets[token_end_index][1] >= end_char):\n",
        "                tokenized_examples[\"start_positions\"].append(cls_index)\n",
        "                tokenized_examples[\"end_positions\"].append(cls_index)\n",
        "            else:\n",
        "                # Otherwise move the token_start_index and token_end_index to the two ends of the answer.\n",
        "                # Note: we could go after the last offset if the answer is the last word (edge case).\n",
        "                while token_start_index < len(offsets) and offsets[token_start_index][0] <= start_char:\n",
        "                    token_start_index += 1\n",
        "                tokenized_examples[\"start_positions\"].append(token_start_index - 1)\n",
        "                while offsets[token_end_index][1] >= end_char:\n",
        "                    token_end_index -= 1\n",
        "                tokenized_examples[\"end_positions\"].append(token_end_index + 1)\n",
        "\n",
        "    return tokenized_examples"
      ]
    },
    {
      "cell_type": "code",
      "execution_count": 7,
      "metadata": {},
      "outputs": [
        {
          "name": "stderr",
          "output_type": "stream",
          "text": [
            "Map: 100%|██████████| 51/51 [00:00<00:00, 5172.39 examples/s]\n",
            "Map: 100%|██████████| 51/51 [00:00<00:00, 3871.17 examples/s]\n",
            "/home/orian/PycharmProjects/ANLP/venv/lib/python3.10/site-packages/transformers/training_args.py:1474: FutureWarning: `evaluation_strategy` is deprecated and will be removed in version 4.46 of 🤗 Transformers. Use `eval_strategy` instead\n",
            "  warnings.warn(\n"
          ]
        },
        {
          "name": "stdout",
          "output_type": "stream",
          "text": [
            "{'eval_loss': 4.036243438720703, 'eval_runtime': 0.1772, 'eval_samples_per_second': 287.801, 'eval_steps_per_second': 22.573, 'epoch': 1.0}\n",
            "{'eval_loss': 2.8767335414886475, 'eval_runtime': 0.1766, 'eval_samples_per_second': 288.773, 'eval_steps_per_second': 22.649, 'epoch': 2.0}\n",
            "{'eval_loss': 2.1038503646850586, 'eval_runtime': 0.1767, 'eval_samples_per_second': 288.618, 'eval_steps_per_second': 22.637, 'epoch': 3.0}\n",
            "{'eval_loss': 1.6164547204971313, 'eval_runtime': 0.1777, 'eval_samples_per_second': 286.99, 'eval_steps_per_second': 22.509, 'epoch': 4.0}\n",
            "{'eval_loss': 1.4257676601409912, 'eval_runtime': 0.1783, 'eval_samples_per_second': 286.1, 'eval_steps_per_second': 22.439, 'epoch': 5.0}\n",
            "{'eval_loss': 1.335403323173523, 'eval_runtime': 0.1784, 'eval_samples_per_second': 285.945, 'eval_steps_per_second': 22.427, 'epoch': 6.0}\n",
            "{'train_runtime': 11.2601, 'train_samples_per_second': 27.176, 'train_steps_per_second': 2.131, 'train_loss': 2.910313606262207, 'epoch': 6.0}\n",
            "english - model alina-bert train time 0:00:11.384690\n"
          ]
        },
        {
          "name": "stderr",
          "output_type": "stream",
          "text": [
            "Map: 100%|██████████| 51/51 [00:00<00:00, 5363.02 examples/s]\n",
            "Map: 100%|██████████| 51/51 [00:00<00:00, 5713.09 examples/s]\n",
            "/home/orian/PycharmProjects/ANLP/venv/lib/python3.10/site-packages/transformers/training_args.py:1474: FutureWarning: `evaluation_strategy` is deprecated and will be removed in version 4.46 of 🤗 Transformers. Use `eval_strategy` instead\n",
            "  warnings.warn(\n"
          ]
        },
        {
          "name": "stdout",
          "output_type": "stream",
          "text": [
            "{'eval_loss': 4.43958044052124, 'eval_runtime': 0.1825, 'eval_samples_per_second': 279.487, 'eval_steps_per_second': 21.921, 'epoch': 1.0}\n",
            "{'eval_loss': 3.15783953666687, 'eval_runtime': 0.182, 'eval_samples_per_second': 280.261, 'eval_steps_per_second': 21.981, 'epoch': 2.0}\n",
            "{'eval_loss': 2.162809133529663, 'eval_runtime': 0.1838, 'eval_samples_per_second': 277.424, 'eval_steps_per_second': 21.759, 'epoch': 3.0}\n",
            "{'eval_loss': 1.6234484910964966, 'eval_runtime': 0.1837, 'eval_samples_per_second': 277.66, 'eval_steps_per_second': 21.777, 'epoch': 4.0}\n",
            "{'eval_loss': 1.4975240230560303, 'eval_runtime': 0.1832, 'eval_samples_per_second': 278.408, 'eval_steps_per_second': 21.836, 'epoch': 5.0}\n",
            "{'eval_loss': 1.3576291799545288, 'eval_runtime': 0.1833, 'eval_samples_per_second': 278.265, 'eval_steps_per_second': 21.825, 'epoch': 6.0}\n",
            "{'train_runtime': 17.3477, 'train_samples_per_second': 17.639, 'train_steps_per_second': 1.383, 'train_loss': 3.1401100158691406, 'epoch': 6.0}\n",
            "english - model alina-m-bert train time 0:00:17.469040\n"
          ]
        },
        {
          "name": "stderr",
          "output_type": "stream",
          "text": [
            "Map: 100%|██████████| 51/51 [00:00<00:00, 5945.73 examples/s]\n",
            "Map: 100%|██████████| 51/51 [00:00<00:00, 3155.33 examples/s]\n",
            "/home/orian/PycharmProjects/ANLP/venv/lib/python3.10/site-packages/transformers/training_args.py:1474: FutureWarning: `evaluation_strategy` is deprecated and will be removed in version 4.46 of 🤗 Transformers. Use `eval_strategy` instead\n",
            "  warnings.warn(\n"
          ]
        },
        {
          "name": "stdout",
          "output_type": "stream",
          "text": [
            "{'eval_loss': 4.197112560272217, 'eval_runtime': 0.1295, 'eval_samples_per_second': 393.807, 'eval_steps_per_second': 30.887, 'epoch': 1.0}\n",
            "{'eval_loss': 2.6797759532928467, 'eval_runtime': 0.1276, 'eval_samples_per_second': 399.764, 'eval_steps_per_second': 31.354, 'epoch': 2.0}\n",
            "{'eval_loss': 1.8237992525100708, 'eval_runtime': 0.1289, 'eval_samples_per_second': 395.666, 'eval_steps_per_second': 31.033, 'epoch': 3.0}\n",
            "{'eval_loss': 1.3446433544158936, 'eval_runtime': 0.1278, 'eval_samples_per_second': 398.913, 'eval_steps_per_second': 31.287, 'epoch': 4.0}\n",
            "{'eval_loss': 1.209793210029602, 'eval_runtime': 0.128, 'eval_samples_per_second': 398.374, 'eval_steps_per_second': 31.245, 'epoch': 5.0}\n",
            "{'eval_loss': 1.1174259185791016, 'eval_runtime': 0.1294, 'eval_samples_per_second': 394.101, 'eval_steps_per_second': 30.91, 'epoch': 6.0}\n",
            "{'train_runtime': 12.7731, 'train_samples_per_second': 23.957, 'train_steps_per_second': 1.879, 'train_loss': 2.7692626317342124, 'epoch': 6.0}\n",
            "english - model alina-m-distil-bert train time 0:00:12.904206\n"
          ]
        },
        {
          "name": "stderr",
          "output_type": "stream",
          "text": [
            "Map: 100%|██████████| 51/51 [00:00<00:00, 5696.96 examples/s]\n",
            "Map: 100%|██████████| 51/51 [00:00<00:00, 5873.73 examples/s]\n",
            "/home/orian/PycharmProjects/ANLP/venv/lib/python3.10/site-packages/transformers/training_args.py:1474: FutureWarning: `evaluation_strategy` is deprecated and will be removed in version 4.46 of 🤗 Transformers. Use `eval_strategy` instead\n",
            "  warnings.warn(\n"
          ]
        },
        {
          "name": "stdout",
          "output_type": "stream",
          "text": [
            "{'eval_loss': 5.245875358581543, 'eval_runtime': 0.2621, 'eval_samples_per_second': 194.571, 'eval_steps_per_second': 15.26, 'epoch': 1.0}\n",
            "{'eval_loss': 4.924711227416992, 'eval_runtime': 0.2573, 'eval_samples_per_second': 198.251, 'eval_steps_per_second': 15.549, 'epoch': 2.0}\n",
            "{'eval_loss': 5.524502754211426, 'eval_runtime': 0.2495, 'eval_samples_per_second': 204.433, 'eval_steps_per_second': 16.034, 'epoch': 3.0}\n",
            "{'eval_loss': 5.410308837890625, 'eval_runtime': 0.2569, 'eval_samples_per_second': 198.507, 'eval_steps_per_second': 15.569, 'epoch': 4.0}\n",
            "{'eval_loss': 4.9071149826049805, 'eval_runtime': 0.2535, 'eval_samples_per_second': 201.173, 'eval_steps_per_second': 15.778, 'epoch': 5.0}\n",
            "{'eval_loss': 4.76708984375, 'eval_runtime': 0.2524, 'eval_samples_per_second': 202.062, 'eval_steps_per_second': 15.848, 'epoch': 6.0}\n",
            "{'train_runtime': 26.6631, 'train_samples_per_second': 11.477, 'train_steps_per_second': 0.9, 'train_loss': 5.5441023508707685, 'epoch': 6.0}\n",
            "english - model alina-xlm-roberta train time 0:00:26.781578\n"
          ]
        },
        {
          "name": "stderr",
          "output_type": "stream",
          "text": [
            "Map: 100%|██████████| 51/51 [00:00<00:00, 5130.83 examples/s]\n",
            "Map: 100%|██████████| 51/51 [00:00<00:00, 4758.73 examples/s]\n",
            "/home/orian/PycharmProjects/ANLP/venv/lib/python3.10/site-packages/transformers/training_args.py:1474: FutureWarning: `evaluation_strategy` is deprecated and will be removed in version 4.46 of 🤗 Transformers. Use `eval_strategy` instead\n",
            "  warnings.warn(\n"
          ]
        },
        {
          "name": "stdout",
          "output_type": "stream",
          "text": [
            "{'eval_loss': 4.441382884979248, 'eval_runtime': 0.1832, 'eval_samples_per_second': 278.353, 'eval_steps_per_second': 21.832, 'epoch': 1.0}\n",
            "{'eval_loss': 2.8611700534820557, 'eval_runtime': 0.1814, 'eval_samples_per_second': 281.116, 'eval_steps_per_second': 22.048, 'epoch': 2.0}\n",
            "{'eval_loss': 2.0255956649780273, 'eval_runtime': 0.1835, 'eval_samples_per_second': 277.972, 'eval_steps_per_second': 21.802, 'epoch': 3.0}\n",
            "{'eval_loss': 1.6546499729156494, 'eval_runtime': 0.1827, 'eval_samples_per_second': 279.144, 'eval_steps_per_second': 21.894, 'epoch': 4.0}\n",
            "{'eval_loss': 1.282227635383606, 'eval_runtime': 0.1811, 'eval_samples_per_second': 281.651, 'eval_steps_per_second': 22.09, 'epoch': 5.0}\n",
            "{'eval_loss': 1.1587496995925903, 'eval_runtime': 0.1822, 'eval_samples_per_second': 279.96, 'eval_steps_per_second': 21.958, 'epoch': 6.0}\n",
            "{'train_runtime': 17.0947, 'train_samples_per_second': 17.9, 'train_steps_per_second': 1.404, 'train_loss': 2.981151262919108, 'epoch': 6.0}\n",
            "english - model alina-ru-bert train time 0:00:17.242740\n"
          ]
        }
      ],
      "source": [
        "import pickle\n",
        "from transformers import AutoTokenizer, AutoModelForQuestionAnswering, DefaultDataCollator, TrainingArguments, Trainer\n",
        "import torch\n",
        "import collections\n",
        "from datetime import datetime\n",
        "from tqdm import tqdm\n",
        "from evaluate import load\n",
        "from transformers.utils.logging import set_verbosity_error\n",
        "from transformers import set_seed\n",
        "\n",
        "set_seed(42)\n",
        "\n",
        "set_verbosity_error()\n",
        "squad_v2_metric = load(\"squad_v2\")\n",
        "\n",
        "val_answers = [a['text_en'][0] for a in squad_alina['validation']['answers']]\n",
        "device = torch.device(\"cuda\" if torch.cuda.is_available() else \"cpu\")\n",
        "\n",
        "train_times = {}\n",
        "for batch, lr, epochs, model_name, model_path in [\n",
        "    (16, 2e-4, 6, 'alina-bert', 'google-bert/bert-base-uncased'),\n",
        "    (16, 2e-4, 6, 'alina-m-bert', 'bert-base-multilingual-cased'),\n",
        "    (16, 2e-4, 6, 'alina-m-distil-bert', 'distilbert/distilbert-base-multilingual-cased'),\n",
        "    (16, 2e-4, 6, 'alina-xlm-roberta', 'FacebookAI/xlm-roberta-base'),\n",
        "    (16, 2e-4, 6, 'alina-ru-bert', 'DeepPavlov/rubert-base-cased'),\n",
        "]:\n",
        "    model = AutoModelForQuestionAnswering.from_pretrained(model_path)\n",
        "    tokenizer = AutoTokenizer.from_pretrained(model_path)\n",
        "\n",
        "    tokenized_datasets = squad_alina.map(prepare_train_features, batched=True, remove_columns=squad_alina[\"train\"].column_names)\n",
        "\n",
        "    with open(f\"../data/engish_tokenized_{model_name}_datasets.pkl\",\"wb\") as file:\n",
        "        pickle.dump(tokenized_datasets, file)\n",
        "\n",
        "\n",
        "    args = TrainingArguments(\n",
        "        output_dir=f\"../models/en_{model_name}\",\n",
        "        evaluation_strategy = \"epoch\",\n",
        "        save_strategy=\"epoch\", \n",
        "        learning_rate=lr,\n",
        "        per_device_train_batch_size=batch,\n",
        "        per_device_eval_batch_size=batch,\n",
        "        num_train_epochs=epochs,\n",
        "        report_to='tensorboard',\n",
        "        logging_dir=f'../logs/en_{model_name}',\n",
        "        load_best_model_at_end=True,\n",
        "        # weight_decay=0.01,\n",
        "    )\n",
        "\n",
        "\n",
        "    data_collator = DefaultDataCollator()\n",
        "\n",
        "    trainer = Trainer(\n",
        "        model=model,\n",
        "        args=args,\n",
        "        train_dataset=tokenized_datasets[\"train\"],\n",
        "        eval_dataset=tokenized_datasets[\"validation\"],\n",
        "        data_collator=data_collator,\n",
        "        tokenizer=tokenizer,\n",
        "    )\n",
        "\n",
        "    start_time = datetime.now()\n",
        "    trainer.train()\n",
        "    print(\"english - model\", model_name, \"train time\", datetime.now() - start_time)\n",
        "    train_times[model_name] = datetime.now() - start_time\n",
        "\n",
        "    trainer.save_model()"
      ]
    },
    {
      "cell_type": "code",
      "execution_count": 8,
      "metadata": {},
      "outputs": [
        {
          "data": {
            "text/plain": [
              "{'alina-bert': datetime.timedelta(seconds=11, microseconds=384706),\n",
              " 'alina-m-bert': datetime.timedelta(seconds=17, microseconds=469055),\n",
              " 'alina-m-distil-bert': datetime.timedelta(seconds=12, microseconds=904222),\n",
              " 'alina-xlm-roberta': datetime.timedelta(seconds=26, microseconds=781594),\n",
              " 'alina-ru-bert': datetime.timedelta(seconds=17, microseconds=242755)}"
            ]
          },
          "execution_count": 8,
          "metadata": {},
          "output_type": "execute_result"
        }
      ],
      "source": [
        "train_times"
      ]
    },
    {
      "cell_type": "code",
      "execution_count": 9,
      "metadata": {},
      "outputs": [
        {
          "name": "stderr",
          "output_type": "stream",
          "text": [
            "Map: 100%|██████████| 51/51 [00:00<00:00, 5186.82 examples/s]\n",
            "Map: 100%|██████████| 51/51 [00:00<00:00, 5823.99 examples/s]\n",
            "100%|██████████| 51/51 [00:00<00:00, 351.59it/s]\n"
          ]
        },
        {
          "name": "stdout",
          "output_type": "stream",
          "text": [
            "english model alina-bert invalid f1 score 0.9861818181818183\n",
            "english model alina-bert squad results {'exact': 1.9607843137254901, 'f1': 30.7736734953822, 'total': 51, 'HasAns_exact': 1.9607843137254901, 'HasAns_f1': 30.7736734953822, 'HasAns_total': 51, 'best_exact': 1.9607843137254901, 'best_exact_thresh': 0.0, 'best_f1': 30.7736734953822, 'best_f1_thresh': 0.0}\n"
          ]
        },
        {
          "name": "stderr",
          "output_type": "stream",
          "text": [
            "Map: 100%|██████████| 51/51 [00:00<00:00, 5548.74 examples/s]\n",
            "Map: 100%|██████████| 51/51 [00:00<00:00, 5538.11 examples/s]\n",
            "100%|██████████| 51/51 [00:00<00:00, 371.49it/s]\n"
          ]
        },
        {
          "name": "stdout",
          "output_type": "stream",
          "text": [
            "english model alina-m-bert invalid f1 score 1.1979286536248561\n",
            "english model alina-m-bert squad results {'exact': 1.9607843137254901, 'f1': 35.4097687609201, 'total': 51, 'HasAns_exact': 1.9607843137254901, 'HasAns_f1': 35.4097687609201, 'HasAns_total': 51, 'best_exact': 1.9607843137254901, 'best_exact_thresh': 0.0, 'best_f1': 35.4097687609201, 'best_f1_thresh': 0.0}\n"
          ]
        },
        {
          "name": "stderr",
          "output_type": "stream",
          "text": [
            "Map: 100%|██████████| 51/51 [00:00<00:00, 6210.36 examples/s]\n",
            "Map: 100%|██████████| 51/51 [00:00<00:00, 6597.87 examples/s]\n",
            "100%|██████████| 51/51 [00:00<00:00, 535.84it/s]\n"
          ]
        },
        {
          "name": "stdout",
          "output_type": "stream",
          "text": [
            "english model alina-m-distil-bert invalid f1 score 1.251342642320086\n",
            "english model alina-m-distil-bert squad results {'exact': 3.9215686274509802, 'f1': 42.41026929298009, 'total': 51, 'HasAns_exact': 3.9215686274509802, 'HasAns_f1': 42.41026929298009, 'HasAns_total': 51, 'best_exact': 3.9215686274509802, 'best_exact_thresh': 0.0, 'best_f1': 42.41026929298009, 'best_f1_thresh': 0.0}\n"
          ]
        },
        {
          "name": "stderr",
          "output_type": "stream",
          "text": [
            "Map: 100%|██████████| 51/51 [00:00<00:00, 3797.10 examples/s]\n",
            "Map: 100%|██████████| 51/51 [00:00<00:00, 3844.04 examples/s]\n",
            "100%|██████████| 51/51 [00:00<00:00, 334.78it/s]\n"
          ]
        },
        {
          "name": "stdout",
          "output_type": "stream",
          "text": [
            "english model alina-xlm-roberta invalid f1 score 1.219484882418813\n",
            "english model alina-xlm-roberta squad results {'exact': 0.0, 'f1': 26.4158789761732, 'total': 51, 'HasAns_exact': 0.0, 'HasAns_f1': 26.4158789761732, 'HasAns_total': 51, 'best_exact': 0.0, 'best_exact_thresh': 0.0, 'best_f1': 26.4158789761732, 'best_f1_thresh': 0.0}\n"
          ]
        },
        {
          "name": "stderr",
          "output_type": "stream",
          "text": [
            "Map: 100%|██████████| 51/51 [00:00<00:00, 5322.19 examples/s]\n",
            "Map: 100%|██████████| 51/51 [00:00<00:00, 5421.47 examples/s]\n",
            "100%|██████████| 51/51 [00:00<00:00, 347.61it/s]"
          ]
        },
        {
          "name": "stdout",
          "output_type": "stream",
          "text": [
            "english model alina-ru-bert invalid f1 score 1.1092651757188499\n",
            "english model alina-ru-bert squad results {'exact': 1.9607843137254901, 'f1': 37.90860526240914, 'total': 51, 'HasAns_exact': 1.9607843137254901, 'HasAns_f1': 37.90860526240914, 'HasAns_total': 51, 'best_exact': 1.9607843137254901, 'best_exact_thresh': 0.0, 'best_f1': 37.90860526240914, 'best_f1_thresh': 0.0}\n"
          ]
        },
        {
          "name": "stderr",
          "output_type": "stream",
          "text": [
            "\n"
          ]
        }
      ],
      "source": [
        "import pickle\n",
        "from transformers import AutoTokenizer, AutoModelForQuestionAnswering, DefaultDataCollator, TrainingArguments, Trainer\n",
        "import torch\n",
        "import collections\n",
        "from datetime import datetime\n",
        "from tqdm import tqdm\n",
        "from evaluate import load\n",
        "from transformers.utils.logging import set_verbosity_error\n",
        "from transformers import set_seed\n",
        "\n",
        "set_seed(42)\n",
        "\n",
        "set_verbosity_error()\n",
        "squad_v2_metric = load(\"squad_v2\")\n",
        "\n",
        "val_answers = [a['text_en'][0] for a in squad_alina['validation']['answers']]\n",
        "device = torch.device(\"cuda\" if torch.cuda.is_available() else \"cpu\")\n",
        "\n",
        "for model_name in ['alina-bert', 'alina-m-bert', 'alina-m-distil-bert', 'alina-xlm-roberta', 'alina-ru-bert']:\n",
        "\n",
        "    model = AutoModelForQuestionAnswering.from_pretrained(f\"../models/en_{model_name}\").cuda()\n",
        "    tokenizer = AutoTokenizer.from_pretrained(f\"../models/en_{model_name}\")\n",
        "\n",
        "    tokenized_datasets = squad_alina.map(prepare_train_features, batched=True, remove_columns=squad_alina[\"train\"].column_names)\n",
        "\n",
        "    eval_answers = []\n",
        "\n",
        "    for instance in tqdm(squad_alina['validation']):\n",
        "        context = instance['context_en']\n",
        "        question = instance['question_en']\n",
        "\n",
        "        given_answer = instance['answers']['text_en'][0]  # Assuming the first answer is the correct one\n",
        "\n",
        "        inputs = tokenizer(question, context, return_tensors='pt', max_length=512, truncation=True)\n",
        "\n",
        "        inputs = {k: v.to(device) for k, v in inputs.items()}\n",
        "\n",
        "        with torch.no_grad():\n",
        "            output = model(**inputs)\n",
        "    \n",
        "        start_idx = torch.argmax(output.start_logits)\n",
        "        end_idx = torch.argmax(output.end_logits)\n",
        "\n",
        "        predicted_answer = tokenizer.convert_tokens_to_string(tokenizer.convert_ids_to_tokens(inputs['input_ids'][0][start_idx:end_idx + 1]))\n",
        "\n",
        "        eval_answers.append(predicted_answer)\n",
        "\n",
        "    num_c = []\n",
        "    num_p = []\n",
        "    num_g = []\n",
        "\n",
        "    for a in range(len(eval_answers)):\n",
        "\n",
        "        common = collections.Counter(eval_answers[a].split()) & collections.Counter(eval_answers[a].split()) # tokens shared between gold and predicted answers\n",
        "        num_common = sum(common.values())\n",
        "\n",
        "        num_pred = len(str(eval_answers[a]).split()) # the number of predicted tokens\n",
        "\n",
        "        num_gold = len(str(val_answers[a]).split()) # the number of gold tokens\n",
        "\n",
        "        num_c.append(num_common)\n",
        "        num_p.append(num_pred)\n",
        "        num_g.append(num_gold)\n",
        "\n",
        "    precision = 1.0 * sum(num_c) / sum(num_p) # the num of tokens shared between gold and predicted answers / the num of predicted tokens\n",
        "    recall = 1.0 * sum(num_c) / sum(num_g) # the num of tokens shared between gold and predicted answers / the num of gold tokens\n",
        "    invalid_f1_score= (2 * precision * recall) / (precision + recall)\n",
        "    print(\"english model\", model_name, \"invalid f1 score\", invalid_f1_score)\n",
        "\n",
        "    predictions = [{'prediction_text': a, 'id': str(idx), 'no_answer_probability': 0.} for idx, a in enumerate(eval_answers)]\n",
        "    references = [{'answers': a, 'id': str(idx)} for idx, a in enumerate([{'answer_start': r['answer_start_en'], 'text': r['text_en']} for r in squad_alina['validation']['answers']])]\n",
        "\n",
        "    results = squad_v2_metric.compute(predictions=predictions, references=references)\n",
        "    print(\"english model\", model_name, \"squad results\", results)"
      ]
    },
    {
      "cell_type": "code",
      "execution_count": 10,
      "metadata": {},
      "outputs": [],
      "source": [
        "import pandas as pd\n",
        "from datasets import DatasetDict, Dataset\n",
        "\n",
        "\n",
        "train_data = pd.read_json('../data/translated_Unbabel_TowerInstruct-v0.1_substring_logic_train.json', lines=True, encoding='utf-8')\n",
        "\n",
        "validation_data = pd.read_json('../data/translated_Unbabel_TowerInstruct-v0.1_substring_logic_validation.json', lines=True, encoding='utf-8')\n",
        "\n",
        "\n",
        "squad = DatasetDict(\n",
        "    {'train': Dataset.from_pandas(train_data).shuffle(),\n",
        "     'validation': Dataset.from_pandas(validation_data).shuffle()\n",
        "     })"
      ]
    },
    {
      "cell_type": "code",
      "execution_count": 11,
      "metadata": {},
      "outputs": [
        {
          "name": "stderr",
          "output_type": "stream",
          "text": [
            "Map: 100%|██████████| 2901/2901 [00:00<00:00, 7335.83 examples/s]\n",
            "Map: 100%|██████████| 643/643 [00:00<00:00, 6827.95 examples/s]\n",
            "100%|██████████| 643/643 [00:01<00:00, 389.93it/s]\n"
          ]
        },
        {
          "name": "stdout",
          "output_type": "stream",
          "text": [
            "english model alina-bert invalid f1 score 0.7119780842622331\n",
            "english model alina-bert squad results {'exact': 2.332814930015552, 'f1': 14.457673616217312, 'total': 643, 'HasAns_exact': 2.332814930015552, 'HasAns_f1': 14.457673616217312, 'HasAns_total': 643, 'best_exact': 2.332814930015552, 'best_exact_thresh': 0.0, 'best_f1': 14.457673616217312, 'best_f1_thresh': 0.0}\n"
          ]
        },
        {
          "name": "stderr",
          "output_type": "stream",
          "text": [
            "Map: 100%|██████████| 2901/2901 [00:00<00:00, 6026.50 examples/s]\n",
            "Map: 100%|██████████| 643/643 [00:00<00:00, 7452.24 examples/s]\n",
            "100%|██████████| 643/643 [00:01<00:00, 381.16it/s]\n"
          ]
        },
        {
          "name": "stdout",
          "output_type": "stream",
          "text": [
            "english model alina-m-bert invalid f1 score 0.891102797657775\n",
            "english model alina-m-bert squad results {'exact': 2.6438569206842923, 'f1': 18.26755486119045, 'total': 643, 'HasAns_exact': 2.6438569206842923, 'HasAns_f1': 18.26755486119045, 'HasAns_total': 643, 'best_exact': 2.6438569206842923, 'best_exact_thresh': 0.0, 'best_f1': 18.26755486119045, 'best_f1_thresh': 0.0}\n"
          ]
        },
        {
          "name": "stderr",
          "output_type": "stream",
          "text": [
            "Map: 100%|██████████| 2901/2901 [00:00<00:00, 8588.45 examples/s]\n",
            "Map: 100%|██████████| 643/643 [00:00<00:00, 8895.44 examples/s]\n",
            "100%|██████████| 643/643 [00:01<00:00, 547.37it/s]\n"
          ]
        },
        {
          "name": "stdout",
          "output_type": "stream",
          "text": [
            "english model alina-m-distil-bert invalid f1 score 0.8482007095793208\n",
            "english model alina-m-distil-bert squad results {'exact': 2.488335925349922, 'f1': 21.2490252044137, 'total': 643, 'HasAns_exact': 2.488335925349922, 'HasAns_f1': 21.2490252044137, 'HasAns_total': 643, 'best_exact': 2.488335925349922, 'best_exact_thresh': 0.0, 'best_f1': 21.2490252044137, 'best_f1_thresh': 0.0}\n"
          ]
        },
        {
          "name": "stderr",
          "output_type": "stream",
          "text": [
            "Map: 100%|██████████| 2901/2901 [00:00<00:00, 7656.14 examples/s]\n",
            "Map: 100%|██████████| 643/643 [00:00<00:00, 8305.50 examples/s]\n",
            "100%|██████████| 643/643 [00:01<00:00, 344.61it/s]\n"
          ]
        },
        {
          "name": "stdout",
          "output_type": "stream",
          "text": [
            "english model alina-xlm-roberta invalid f1 score 0.7837837837837839\n",
            "english model alina-xlm-roberta squad results {'exact': 4.043545878693624, 'f1': 19.014945898528016, 'total': 643, 'HasAns_exact': 4.043545878693624, 'HasAns_f1': 19.014945898528016, 'HasAns_total': 643, 'best_exact': 4.043545878693624, 'best_exact_thresh': 0.0, 'best_f1': 19.014945898528016, 'best_f1_thresh': 0.0}\n"
          ]
        },
        {
          "name": "stderr",
          "output_type": "stream",
          "text": [
            "Map: 100%|██████████| 2901/2901 [00:00<00:00, 7400.38 examples/s]\n",
            "Map: 100%|██████████| 643/643 [00:00<00:00, 7327.60 examples/s]\n",
            "100%|██████████| 643/643 [00:01<00:00, 343.80it/s]\n"
          ]
        },
        {
          "name": "stdout",
          "output_type": "stream",
          "text": [
            "english model alina-ru-bert invalid f1 score 0.6488629044245157\n",
            "english model alina-ru-bert squad results {'exact': 5.443234836702955, 'f1': 15.95582529409292, 'total': 643, 'HasAns_exact': 5.443234836702955, 'HasAns_f1': 15.95582529409292, 'HasAns_total': 643, 'best_exact': 5.443234836702955, 'best_exact_thresh': 0.0, 'best_f1': 15.95582529409292, 'best_f1_thresh': 0.0}\n"
          ]
        }
      ],
      "source": [
        "from transformers import AutoTokenizer, AutoModelForQuestionAnswering, DefaultDataCollator, TrainingArguments, Trainer\n",
        "from tqdm import tqdm\n",
        "import torch\n",
        "import collections\n",
        "from tqdm import tqdm\n",
        "from evaluate import load\n",
        "from transformers.utils.logging import set_verbosity_error\n",
        "from transformers import set_seed\n",
        "\n",
        "set_seed(42)\n",
        "\n",
        "set_verbosity_error()\n",
        "squad_v2_metric = load(\"squad_v2\")\n",
        "\n",
        "val_answers = [a['text_en'][0] for a in squad['validation']['answers']]\n",
        "device = torch.device(\"cuda\" if torch.cuda.is_available() else \"cpu\")\n",
        "\n",
        "for model_name in ['alina-bert', 'alina-m-bert', 'alina-m-distil-bert', 'alina-xlm-roberta', 'alina-ru-bert']:\n",
        "\n",
        "    model = AutoModelForQuestionAnswering.from_pretrained(f\"../models/en_{model_name}\").cuda()\n",
        "    tokenizer = AutoTokenizer.from_pretrained(f\"../models/en_{model_name}\")\n",
        "\n",
        "    tokenized_datasets = squad.map(prepare_train_features, batched=True, remove_columns=squad[\"train\"].column_names)\n",
        "\n",
        "    eval_answers = []\n",
        "\n",
        "    for instance in tqdm(squad['validation']):\n",
        "        context = instance['context_en']\n",
        "        question = instance['question_en']\n",
        "\n",
        "        given_answer = instance['answers']['text_en'][0]  # Assuming the first answer is the correct one\n",
        "\n",
        "        inputs = tokenizer(question, context, return_tensors='pt', max_length=512, truncation=True)\n",
        "\n",
        "        inputs = {k: v.to(device) for k, v in inputs.items()}\n",
        "\n",
        "        with torch.no_grad():\n",
        "            output = model(**inputs)\n",
        "    \n",
        "        start_idx = torch.argmax(output.start_logits)\n",
        "        end_idx = torch.argmax(output.end_logits)\n",
        "\n",
        "        predicted_answer = tokenizer.convert_tokens_to_string(tokenizer.convert_ids_to_tokens(inputs['input_ids'][0][start_idx:end_idx + 1]))\n",
        "\n",
        "        eval_answers.append(predicted_answer)\n",
        "\n",
        "    num_c = []\n",
        "    num_p = []\n",
        "    num_g = []\n",
        "\n",
        "    for a in range(len(eval_answers)):\n",
        "\n",
        "        common = collections.Counter(eval_answers[a].split()) & collections.Counter(eval_answers[a].split()) # tokens shared between gold and predicted answers\n",
        "        num_common = sum(common.values())\n",
        "\n",
        "        num_pred = len(str(eval_answers[a]).split()) # the number of predicted tokens\n",
        "\n",
        "        num_gold = len(str(val_answers[a]).split()) # the number of gold tokens\n",
        "\n",
        "        num_c.append(num_common)\n",
        "        num_p.append(num_pred)\n",
        "        num_g.append(num_gold)\n",
        "\n",
        "    precision = 1.0 * sum(num_c) / sum(num_p) # the num of tokens shared between gold and predicted answers / the num of predicted tokens\n",
        "    recall = 1.0 * sum(num_c) / sum(num_g) # the num of tokens shared between gold and predicted answers / the num of gold tokens\n",
        "    invalid_f1_score= (2 * precision * recall) / (precision + recall)\n",
        "    print(\"english model\", model_name, \"invalid f1 score\", invalid_f1_score)\n",
        "\n",
        "    predictions = [{'prediction_text': a, 'id': str(idx), 'no_answer_probability': 0.} for idx, a in enumerate(eval_answers)]\n",
        "    references = [{'answers': a, 'id': str(idx)} for idx, a in enumerate([{'answer_start': r['answer_start_en'], 'text': r['text_en']} for r in squad['validation']['answers']])]\n",
        "\n",
        "    results = squad_v2_metric.compute(predictions=predictions, references=references)\n",
        "    print(\"english model\", model_name, \"squad results\", results)"
      ]
    }
  ],
  "metadata": {
    "colab": {
      "authorship_tag": "ABX9TyObSv3+ilrVHF5vItgMce1Q",
      "name": "Data_Preprocessor.ipynb",
      "provenance": []
    },
    "kernelspec": {
      "display_name": "Python 3",
      "name": "python3"
    },
    "language_info": {
      "codemirror_mode": {
        "name": "ipython",
        "version": 3
      },
      "file_extension": ".py",
      "mimetype": "text/x-python",
      "name": "python",
      "nbconvert_exporter": "python",
      "pygments_lexer": "ipython3",
      "version": "3.10.12"
    }
  },
  "nbformat": 4,
  "nbformat_minor": 0
}
