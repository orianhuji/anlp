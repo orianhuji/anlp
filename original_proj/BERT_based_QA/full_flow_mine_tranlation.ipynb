{
  "cells": [
    {
      "cell_type": "markdown",
      "metadata": {
        "id": "hKfvNlxGgDtB"
      },
      "source": [
        "# Installing libraries\n",
        "\n",
        "Installing HuggingFace Transformers (https://github.com/huggingface/transformers)"
      ]
    },
    {
      "cell_type": "code",
      "execution_count": 15,
      "metadata": {},
      "outputs": [
        {
          "name": "stderr",
          "output_type": "stream",
          "text": [
            "huggingface/tokenizers: The current process just got forked, after parallelism has already been used. Disabling parallelism to avoid deadlocks...\n",
            "To disable this warning, you can either:\n",
            "\t- Avoid using `tokenizers` before the fork if possible\n",
            "\t- Explicitly set the environment variable TOKENIZERS_PARALLELISM=(true | false)\n"
          ]
        },
        {
          "name": "stdout",
          "output_type": "stream",
          "text": [
            "Requirement already satisfied: datasets in /home/orian/PycharmProjects/ANLP/venv/lib/python3.10/site-packages (2.20.0)\n",
            "Requirement already satisfied: transformers in /home/orian/PycharmProjects/ANLP/venv/lib/python3.10/site-packages (4.41.2)\n",
            "Requirement already satisfied: scikit-learn in /home/orian/PycharmProjects/ANLP/venv/lib/python3.10/site-packages (1.5.1)\n",
            "Requirement already satisfied: torch in /home/orian/PycharmProjects/ANLP/venv/lib/python3.10/site-packages (2.3.0+cu121)\n",
            "Requirement already satisfied: pandas in /home/orian/PycharmProjects/ANLP/venv/lib/python3.10/site-packages (2.2.2)\n",
            "Requirement already satisfied: evaluate in /home/orian/PycharmProjects/ANLP/venv/lib/python3.10/site-packages (0.4.2)\n",
            "Requirement already satisfied: tensorboardX in /home/orian/PycharmProjects/ANLP/venv/lib/python3.10/site-packages (2.6.2.2)\n",
            "Requirement already satisfied: filelock in /home/orian/PycharmProjects/ANLP/venv/lib/python3.10/site-packages (from datasets) (3.13.1)\n",
            "Requirement already satisfied: numpy>=1.17 in /home/orian/PycharmProjects/ANLP/venv/lib/python3.10/site-packages (from datasets) (1.26.4)\n",
            "Requirement already satisfied: pyarrow>=15.0.0 in /home/orian/PycharmProjects/ANLP/venv/lib/python3.10/site-packages (from datasets) (17.0.0)\n",
            "Requirement already satisfied: pyarrow-hotfix in /home/orian/PycharmProjects/ANLP/venv/lib/python3.10/site-packages (from datasets) (0.6)\n",
            "Requirement already satisfied: dill<0.3.9,>=0.3.0 in /home/orian/PycharmProjects/ANLP/venv/lib/python3.10/site-packages (from datasets) (0.3.8)\n",
            "Requirement already satisfied: requests>=2.32.2 in /home/orian/PycharmProjects/ANLP/venv/lib/python3.10/site-packages (from datasets) (2.32.3)\n",
            "Requirement already satisfied: tqdm>=4.66.3 in /home/orian/PycharmProjects/ANLP/venv/lib/python3.10/site-packages (from datasets) (4.66.4)\n",
            "Requirement already satisfied: xxhash in /home/orian/PycharmProjects/ANLP/venv/lib/python3.10/site-packages (from datasets) (3.4.1)\n",
            "Requirement already satisfied: multiprocess in /home/orian/PycharmProjects/ANLP/venv/lib/python3.10/site-packages (from datasets) (0.70.16)\n",
            "Requirement already satisfied: fsspec<=2024.5.0,>=2023.1.0 in /home/orian/PycharmProjects/ANLP/venv/lib/python3.10/site-packages (from fsspec[http]<=2024.5.0,>=2023.1.0->datasets) (2024.2.0)\n",
            "Requirement already satisfied: aiohttp in /home/orian/PycharmProjects/ANLP/venv/lib/python3.10/site-packages (from datasets) (3.9.5)\n",
            "Requirement already satisfied: huggingface-hub>=0.21.2 in /home/orian/PycharmProjects/ANLP/venv/lib/python3.10/site-packages (from datasets) (0.23.2)\n",
            "Requirement already satisfied: packaging in /home/orian/PycharmProjects/ANLP/venv/lib/python3.10/site-packages (from datasets) (24.0)\n",
            "Requirement already satisfied: pyyaml>=5.1 in /home/orian/PycharmProjects/ANLP/venv/lib/python3.10/site-packages (from datasets) (6.0.1)\n",
            "Requirement already satisfied: regex!=2019.12.17 in /home/orian/PycharmProjects/ANLP/venv/lib/python3.10/site-packages (from transformers) (2024.5.15)\n",
            "Requirement already satisfied: tokenizers<0.20,>=0.19 in /home/orian/PycharmProjects/ANLP/venv/lib/python3.10/site-packages (from transformers) (0.19.1)\n",
            "Requirement already satisfied: safetensors>=0.4.1 in /home/orian/PycharmProjects/ANLP/venv/lib/python3.10/site-packages (from transformers) (0.4.3)\n",
            "Requirement already satisfied: scipy>=1.6.0 in /home/orian/PycharmProjects/ANLP/venv/lib/python3.10/site-packages (from scikit-learn) (1.14.0)\n",
            "Requirement already satisfied: joblib>=1.2.0 in /home/orian/PycharmProjects/ANLP/venv/lib/python3.10/site-packages (from scikit-learn) (1.4.2)\n",
            "Requirement already satisfied: threadpoolctl>=3.1.0 in /home/orian/PycharmProjects/ANLP/venv/lib/python3.10/site-packages (from scikit-learn) (3.5.0)\n",
            "Requirement already satisfied: typing-extensions>=4.8.0 in /home/orian/PycharmProjects/ANLP/venv/lib/python3.10/site-packages (from torch) (4.9.0)\n",
            "Requirement already satisfied: sympy in /home/orian/PycharmProjects/ANLP/venv/lib/python3.10/site-packages (from torch) (1.12)\n",
            "Requirement already satisfied: networkx in /home/orian/PycharmProjects/ANLP/venv/lib/python3.10/site-packages (from torch) (3.2.1)\n",
            "Requirement already satisfied: jinja2 in /home/orian/PycharmProjects/ANLP/venv/lib/python3.10/site-packages (from torch) (3.1.3)\n",
            "Requirement already satisfied: nvidia-cuda-nvrtc-cu12==12.1.105 in /home/orian/PycharmProjects/ANLP/venv/lib/python3.10/site-packages (from torch) (12.1.105)\n",
            "Requirement already satisfied: nvidia-cuda-runtime-cu12==12.1.105 in /home/orian/PycharmProjects/ANLP/venv/lib/python3.10/site-packages (from torch) (12.1.105)\n",
            "Requirement already satisfied: nvidia-cuda-cupti-cu12==12.1.105 in /home/orian/PycharmProjects/ANLP/venv/lib/python3.10/site-packages (from torch) (12.1.105)\n",
            "Requirement already satisfied: nvidia-cudnn-cu12==8.9.2.26 in /home/orian/PycharmProjects/ANLP/venv/lib/python3.10/site-packages (from torch) (8.9.2.26)\n",
            "Requirement already satisfied: nvidia-cublas-cu12==12.1.3.1 in /home/orian/PycharmProjects/ANLP/venv/lib/python3.10/site-packages (from torch) (12.1.3.1)\n",
            "Requirement already satisfied: nvidia-cufft-cu12==11.0.2.54 in /home/orian/PycharmProjects/ANLP/venv/lib/python3.10/site-packages (from torch) (11.0.2.54)\n",
            "Requirement already satisfied: nvidia-curand-cu12==10.3.2.106 in /home/orian/PycharmProjects/ANLP/venv/lib/python3.10/site-packages (from torch) (10.3.2.106)\n",
            "Requirement already satisfied: nvidia-cusolver-cu12==11.4.5.107 in /home/orian/PycharmProjects/ANLP/venv/lib/python3.10/site-packages (from torch) (11.4.5.107)\n",
            "Requirement already satisfied: nvidia-cusparse-cu12==12.1.0.106 in /home/orian/PycharmProjects/ANLP/venv/lib/python3.10/site-packages (from torch) (12.1.0.106)\n",
            "Requirement already satisfied: nvidia-nccl-cu12==2.20.5 in /home/orian/PycharmProjects/ANLP/venv/lib/python3.10/site-packages (from torch) (2.20.5)\n",
            "Requirement already satisfied: nvidia-nvtx-cu12==12.1.105 in /home/orian/PycharmProjects/ANLP/venv/lib/python3.10/site-packages (from torch) (12.1.105)\n",
            "Requirement already satisfied: triton==2.3.0 in /home/orian/PycharmProjects/ANLP/venv/lib/python3.10/site-packages (from torch) (2.3.0)\n",
            "Requirement already satisfied: nvidia-nvjitlink-cu12 in /home/orian/PycharmProjects/ANLP/venv/lib/python3.10/site-packages (from nvidia-cusolver-cu12==11.4.5.107->torch) (12.1.105)\n",
            "Requirement already satisfied: python-dateutil>=2.8.2 in /home/orian/PycharmProjects/ANLP/venv/lib/python3.10/site-packages (from pandas) (2.9.0.post0)\n",
            "Requirement already satisfied: pytz>=2020.1 in /home/orian/PycharmProjects/ANLP/venv/lib/python3.10/site-packages (from pandas) (2024.1)\n",
            "Requirement already satisfied: tzdata>=2022.7 in /home/orian/PycharmProjects/ANLP/venv/lib/python3.10/site-packages (from pandas) (2024.1)\n",
            "Requirement already satisfied: protobuf>=3.20 in /home/orian/PycharmProjects/ANLP/venv/lib/python3.10/site-packages (from tensorboardX) (4.25.3)\n",
            "Requirement already satisfied: aiosignal>=1.1.2 in /home/orian/PycharmProjects/ANLP/venv/lib/python3.10/site-packages (from aiohttp->datasets) (1.3.1)\n",
            "Requirement already satisfied: attrs>=17.3.0 in /home/orian/PycharmProjects/ANLP/venv/lib/python3.10/site-packages (from aiohttp->datasets) (23.2.0)\n",
            "Requirement already satisfied: frozenlist>=1.1.1 in /home/orian/PycharmProjects/ANLP/venv/lib/python3.10/site-packages (from aiohttp->datasets) (1.4.1)\n",
            "Requirement already satisfied: multidict<7.0,>=4.5 in /home/orian/PycharmProjects/ANLP/venv/lib/python3.10/site-packages (from aiohttp->datasets) (6.0.5)\n",
            "Requirement already satisfied: yarl<2.0,>=1.0 in /home/orian/PycharmProjects/ANLP/venv/lib/python3.10/site-packages (from aiohttp->datasets) (1.9.4)\n",
            "Requirement already satisfied: async-timeout<5.0,>=4.0 in /home/orian/PycharmProjects/ANLP/venv/lib/python3.10/site-packages (from aiohttp->datasets) (4.0.3)\n",
            "Requirement already satisfied: six>=1.5 in /home/orian/PycharmProjects/ANLP/venv/lib/python3.10/site-packages (from python-dateutil>=2.8.2->pandas) (1.16.0)\n",
            "Requirement already satisfied: charset-normalizer<4,>=2 in /home/orian/PycharmProjects/ANLP/venv/lib/python3.10/site-packages (from requests>=2.32.2->datasets) (3.3.2)\n",
            "Requirement already satisfied: idna<4,>=2.5 in /home/orian/PycharmProjects/ANLP/venv/lib/python3.10/site-packages (from requests>=2.32.2->datasets) (3.7)\n",
            "Requirement already satisfied: urllib3<3,>=1.21.1 in /home/orian/PycharmProjects/ANLP/venv/lib/python3.10/site-packages (from requests>=2.32.2->datasets) (2.2.1)\n",
            "Requirement already satisfied: certifi>=2017.4.17 in /home/orian/PycharmProjects/ANLP/venv/lib/python3.10/site-packages (from requests>=2.32.2->datasets) (2024.6.2)\n",
            "Requirement already satisfied: MarkupSafe>=2.0 in /home/orian/PycharmProjects/ANLP/venv/lib/python3.10/site-packages (from jinja2->torch) (2.1.5)\n",
            "Requirement already satisfied: mpmath>=0.19 in /home/orian/PycharmProjects/ANLP/venv/lib/python3.10/site-packages (from sympy->torch) (1.3.0)\n",
            "\n",
            "\u001b[1m[\u001b[0m\u001b[34;49mnotice\u001b[0m\u001b[1;39;49m]\u001b[0m\u001b[39;49m A new release of pip is available: \u001b[0m\u001b[31;49m24.0\u001b[0m\u001b[39;49m -> \u001b[0m\u001b[32;49m24.1.2\u001b[0m\n",
            "\u001b[1m[\u001b[0m\u001b[34;49mnotice\u001b[0m\u001b[1;39;49m]\u001b[0m\u001b[39;49m To update, run: \u001b[0m\u001b[32;49mpip install --upgrade pip\u001b[0m\n"
          ]
        }
      ],
      "source": [
        "!pip install datasets transformers scikit-learn torch pandas evaluate tensorboardX"
      ]
    },
    {
      "cell_type": "markdown",
      "metadata": {
        "id": "tRuKCDbpfQd7"
      },
      "source": [
        "# Dataset processing\n",
        "\n",
        "Uploading the dataset, splitting the data into train, validation and test sets"
      ]
    },
    {
      "cell_type": "code",
      "execution_count": 16,
      "metadata": {},
      "outputs": [],
      "source": [
        "import pandas as pd\n",
        "from datasets import DatasetDict, Dataset\n",
        "\n",
        "\n",
        "train_data = pd.read_json('../data/translated_Unbabel_TowerInstruct-v0.1_substring_logic_train.json', lines=True, encoding='utf-8')\n",
        "\n",
        "validation_data = pd.read_json('../data/translated_Unbabel_TowerInstruct-v0.1_substring_logic_validation.json', lines=True, encoding='utf-8')\n",
        "\n",
        "\n",
        "squad = DatasetDict(\n",
        "    {'train': Dataset.from_pandas(train_data).shuffle(),\n",
        "     'validation': Dataset.from_pandas(validation_data).shuffle()\n",
        "     })"
      ]
    },
    {
      "cell_type": "markdown",
      "metadata": {
        "id": "VkXTOmn7gyee"
      },
      "source": [
        "Getting contexts, questions and answers from the train and validation sets"
      ]
    },
    {
      "cell_type": "code",
      "execution_count": 86,
      "metadata": {},
      "outputs": [],
      "source": [
        "def prepare_train_features(examples):\n",
        "    # Tokenize our examples with truncation and padding, but keep the overflows using a stride.\n",
        "    # This results in one example possible giving several features when a context is long,\n",
        "    # each of those features having a context that overlaps a bit the context of the previous feature.\n",
        "    tokenized_examples = tokenizer(\n",
        "        examples[\"question_en\"],\n",
        "        examples[\"context_en\"],\n",
        "        truncation=\"only_second\",  # truncate context, not the question\n",
        "        max_length=512,\n",
        "        stride=128,\n",
        "        return_overflowing_tokens=True,\n",
        "        return_offsets_mapping=True,\n",
        "        padding=\"max_length\",\n",
        "    )\n",
        "\n",
        "    # Since one example might give us several features if it has a long context, we need a map from a feature to\n",
        "    # its corresponding example. This key gives us just that.\n",
        "    sample_mapping = tokenized_examples.pop(\"overflow_to_sample_mapping\")\n",
        "    # The offset mappings will give us a map from token to character position in the original context.\n",
        "    # This will help us compute the start_positions and end_positions.\n",
        "    offset_mapping = tokenized_examples.pop(\"offset_mapping\")\n",
        "\n",
        "    # Let's label those examples!\n",
        "    tokenized_examples[\"start_positions\"] = []\n",
        "    tokenized_examples[\"end_positions\"] = []\n",
        "\n",
        "    for i, offsets in enumerate(offset_mapping):\n",
        "        # We will label impossible answers with the index of the CLS token.\n",
        "        input_ids = tokenized_examples[\"input_ids\"][i]\n",
        "        cls_index = input_ids.index(tokenizer.cls_token_id)\n",
        "\n",
        "        # Grab the sequence corresponding to that example (to know what is the context and what is the question).\n",
        "        sequence_ids = tokenized_examples.sequence_ids(i)\n",
        "\n",
        "        # One example can give several spans, this is the index of the example containing this span of text.\n",
        "        sample_index = sample_mapping[i]\n",
        "        answers = examples[\"answers\"][sample_index]\n",
        "        # If no answers are given, set the cls_index as answer.\n",
        "        if len(answers[\"answer_start_en\"]) == 0:\n",
        "            tokenized_examples[\"start_positions\"].append(cls_index)\n",
        "            tokenized_examples[\"end_positions\"].append(cls_index)\n",
        "        else:\n",
        "            # Start/end character index of the answer in the text.\n",
        "            start_char = answers[\"answer_start_en\"][0]\n",
        "            end_char = start_char + len(answers[\"text_en\"][0])\n",
        "\n",
        "            # Start token index of the current span in the text.\n",
        "            token_start_index = 0\n",
        "            while sequence_ids[token_start_index] != 1:\n",
        "                token_start_index += 1\n",
        "\n",
        "            # End token index of the current span in the text.\n",
        "            token_end_index = len(input_ids) - 1\n",
        "            while sequence_ids[token_end_index] != 1:\n",
        "                token_end_index -= 1\n",
        "\n",
        "            # Detect if the answer is out of the span (in which case this feature is labeled with the CLS index).\n",
        "            if not (offsets[token_start_index][0] <= start_char and offsets[token_end_index][1] >= end_char):\n",
        "                tokenized_examples[\"start_positions\"].append(cls_index)\n",
        "                tokenized_examples[\"end_positions\"].append(cls_index)\n",
        "            else:\n",
        "                # Otherwise move the token_start_index and token_end_index to the two ends of the answer.\n",
        "                # Note: we could go after the last offset if the answer is the last word (edge case).\n",
        "                while token_start_index < len(offsets) and offsets[token_start_index][0] <= start_char:\n",
        "                    token_start_index += 1\n",
        "                tokenized_examples[\"start_positions\"].append(token_start_index - 1)\n",
        "                while offsets[token_end_index][1] >= end_char:\n",
        "                    token_end_index -= 1\n",
        "                tokenized_examples[\"end_positions\"].append(token_end_index + 1)\n",
        "\n",
        "    return tokenized_examples"
      ]
    },
    {
      "cell_type": "code",
      "execution_count": 22,
      "metadata": {},
      "outputs": [
        {
          "name": "stderr",
          "output_type": "stream",
          "text": [
            "Map: 100%|██████████| 2901/2901 [00:00<00:00, 7245.54 examples/s]\n",
            "Map: 100%|██████████| 643/643 [00:00<00:00, 7196.55 examples/s]\n",
            "/home/orian/PycharmProjects/ANLP/venv/lib/python3.10/site-packages/transformers/training_args.py:1474: FutureWarning: `evaluation_strategy` is deprecated and will be removed in version 4.46 of 🤗 Transformers. Use `eval_strategy` instead\n",
            "  warnings.warn(\n"
          ]
        },
        {
          "name": "stdout",
          "output_type": "stream",
          "text": [
            "{'eval_loss': 2.6011884212493896, 'eval_runtime': 2.2423, 'eval_samples_per_second': 286.761, 'eval_steps_per_second': 18.285, 'epoch': 1.0}\n",
            "{'eval_loss': 2.317234754562378, 'eval_runtime': 2.2176, 'eval_samples_per_second': 289.954, 'eval_steps_per_second': 18.488, 'epoch': 2.0}\n",
            "{'loss': 2.3436, 'grad_norm': 19.98981285095215, 'learning_rate': 1.0842490842490842e-05, 'epoch': 2.7472527472527473}\n",
            "{'eval_loss': 2.366225004196167, 'eval_runtime': 2.3309, 'eval_samples_per_second': 275.86, 'eval_steps_per_second': 17.59, 'epoch': 3.0}\n",
            "{'eval_loss': 2.460500717163086, 'eval_runtime': 2.2817, 'eval_samples_per_second': 281.809, 'eval_steps_per_second': 17.969, 'epoch': 4.0}\n",
            "{'eval_loss': 2.541428804397583, 'eval_runtime': 2.2937, 'eval_samples_per_second': 280.336, 'eval_steps_per_second': 17.875, 'epoch': 5.0}\n",
            "{'loss': 1.0727, 'grad_norm': 15.659433364868164, 'learning_rate': 1.6849816849816852e-06, 'epoch': 5.4945054945054945}\n",
            "{'eval_loss': 2.5757017135620117, 'eval_runtime': 2.3041, 'eval_samples_per_second': 279.07, 'eval_steps_per_second': 17.795, 'epoch': 6.0}\n",
            "{'train_runtime': 209.6292, 'train_samples_per_second': 83.032, 'train_steps_per_second': 5.209, 'train_loss': 1.6347456222925432, 'epoch': 6.0}\n",
            "english - model bert train time 0:03:29.778984\n"
          ]
        },
        {
          "name": "stderr",
          "output_type": "stream",
          "text": [
            "Map: 100%|██████████| 2901/2901 [00:00<00:00, 6799.65 examples/s]\n",
            "Map: 100%|██████████| 643/643 [00:00<00:00, 6128.60 examples/s]\n",
            "/home/orian/PycharmProjects/ANLP/venv/lib/python3.10/site-packages/transformers/training_args.py:1474: FutureWarning: `evaluation_strategy` is deprecated and will be removed in version 4.46 of 🤗 Transformers. Use `eval_strategy` instead\n",
            "  warnings.warn(\n"
          ]
        },
        {
          "name": "stdout",
          "output_type": "stream",
          "text": [
            "{'eval_loss': 2.3052632808685303, 'eval_runtime': 2.2691, 'eval_samples_per_second': 283.366, 'eval_steps_per_second': 18.068, 'epoch': 1.0}\n",
            "{'eval_loss': 2.1180062294006348, 'eval_runtime': 2.3144, 'eval_samples_per_second': 277.83, 'eval_steps_per_second': 17.715, 'epoch': 2.0}\n",
            "{'loss': 2.0051, 'grad_norm': 24.252626419067383, 'learning_rate': 1.0842490842490842e-05, 'epoch': 2.7472527472527473}\n",
            "{'eval_loss': 2.2582759857177734, 'eval_runtime': 2.3065, 'eval_samples_per_second': 278.78, 'eval_steps_per_second': 17.776, 'epoch': 3.0}\n",
            "{'eval_loss': 2.3540070056915283, 'eval_runtime': 2.3137, 'eval_samples_per_second': 277.91, 'eval_steps_per_second': 17.721, 'epoch': 4.0}\n",
            "{'eval_loss': 2.4695611000061035, 'eval_runtime': 2.2948, 'eval_samples_per_second': 280.203, 'eval_steps_per_second': 17.867, 'epoch': 5.0}\n",
            "{'loss': 0.8447, 'grad_norm': 12.329636573791504, 'learning_rate': 1.6849816849816852e-06, 'epoch': 5.4945054945054945}\n",
            "{'eval_loss': 2.569683313369751, 'eval_runtime': 2.3206, 'eval_samples_per_second': 277.08, 'eval_steps_per_second': 17.668, 'epoch': 6.0}\n",
            "{'train_runtime': 224.3687, 'train_samples_per_second': 77.578, 'train_steps_per_second': 4.867, 'train_loss': 1.3566446828318166, 'epoch': 6.0}\n",
            "english - model m-bert train time 0:03:44.494226\n"
          ]
        },
        {
          "name": "stderr",
          "output_type": "stream",
          "text": [
            "Map: 100%|██████████| 2901/2901 [00:00<00:00, 8460.12 examples/s]\n",
            "Map: 100%|██████████| 643/643 [00:00<00:00, 8397.51 examples/s]\n",
            "/home/orian/PycharmProjects/ANLP/venv/lib/python3.10/site-packages/transformers/training_args.py:1474: FutureWarning: `evaluation_strategy` is deprecated and will be removed in version 4.46 of 🤗 Transformers. Use `eval_strategy` instead\n",
            "  warnings.warn(\n"
          ]
        },
        {
          "name": "stdout",
          "output_type": "stream",
          "text": [
            "{'eval_loss': 2.639968156814575, 'eval_runtime': 1.5788, 'eval_samples_per_second': 407.265, 'eval_steps_per_second': 25.969, 'epoch': 1.0}\n",
            "{'eval_loss': 2.4489474296569824, 'eval_runtime': 1.5609, 'eval_samples_per_second': 411.941, 'eval_steps_per_second': 26.267, 'epoch': 2.0}\n",
            "{'loss': 2.4212, 'grad_norm': 18.29389762878418, 'learning_rate': 1.0842490842490842e-05, 'epoch': 2.7472527472527473}\n",
            "{'eval_loss': 2.4486610889434814, 'eval_runtime': 1.542, 'eval_samples_per_second': 416.997, 'eval_steps_per_second': 26.589, 'epoch': 3.0}\n",
            "{'eval_loss': 2.5039780139923096, 'eval_runtime': 1.5577, 'eval_samples_per_second': 412.801, 'eval_steps_per_second': 26.322, 'epoch': 4.0}\n",
            "{'eval_loss': 2.532639980316162, 'eval_runtime': 1.5437, 'eval_samples_per_second': 416.518, 'eval_steps_per_second': 26.559, 'epoch': 5.0}\n",
            "{'loss': 1.3143, 'grad_norm': 19.260374069213867, 'learning_rate': 1.6849816849816852e-06, 'epoch': 5.4945054945054945}\n",
            "{'eval_loss': 2.637362241744995, 'eval_runtime': 1.5466, 'eval_samples_per_second': 415.751, 'eval_steps_per_second': 26.51, 'epoch': 6.0}\n",
            "{'train_runtime': 154.4169, 'train_samples_per_second': 112.721, 'train_steps_per_second': 7.072, 'train_loss': 1.8026678413698525, 'epoch': 6.0}\n",
            "english - model m-distil-bert train time 0:02:34.549745\n"
          ]
        },
        {
          "name": "stderr",
          "output_type": "stream",
          "text": [
            "Map: 100%|██████████| 2901/2901 [00:00<00:00, 5798.88 examples/s]\n",
            "Map: 100%|██████████| 643/643 [00:00<00:00, 7040.99 examples/s]\n",
            "/home/orian/PycharmProjects/ANLP/venv/lib/python3.10/site-packages/transformers/training_args.py:1474: FutureWarning: `evaluation_strategy` is deprecated and will be removed in version 4.46 of 🤗 Transformers. Use `eval_strategy` instead\n",
            "  warnings.warn(\n"
          ]
        },
        {
          "name": "stdout",
          "output_type": "stream",
          "text": [
            "{'eval_loss': 2.073545217514038, 'eval_runtime': 2.9259, 'eval_samples_per_second': 219.76, 'eval_steps_per_second': 14.013, 'epoch': 1.0}\n",
            "{'eval_loss': 1.797814965248108, 'eval_runtime': 2.955, 'eval_samples_per_second': 217.601, 'eval_steps_per_second': 13.875, 'epoch': 2.0}\n",
            "{'loss': 2.2504, 'grad_norm': 22.51395034790039, 'learning_rate': 1.0842490842490842e-05, 'epoch': 2.7472527472527473}\n",
            "{'eval_loss': 1.7448272705078125, 'eval_runtime': 2.8168, 'eval_samples_per_second': 228.276, 'eval_steps_per_second': 14.556, 'epoch': 3.0}\n",
            "{'eval_loss': 1.841406226158142, 'eval_runtime': 2.8039, 'eval_samples_per_second': 229.324, 'eval_steps_per_second': 14.623, 'epoch': 4.0}\n",
            "{'eval_loss': 1.926429033279419, 'eval_runtime': 2.9238, 'eval_samples_per_second': 219.923, 'eval_steps_per_second': 14.023, 'epoch': 5.0}\n",
            "{'loss': 0.9787, 'grad_norm': 17.096050262451172, 'learning_rate': 1.6849816849816852e-06, 'epoch': 5.4945054945054945}\n",
            "{'eval_loss': 1.9846575260162354, 'eval_runtime': 2.8638, 'eval_samples_per_second': 224.531, 'eval_steps_per_second': 14.317, 'epoch': 6.0}\n",
            "{'train_runtime': 293.2165, 'train_samples_per_second': 59.362, 'train_steps_per_second': 3.724, 'train_loss': 1.546594242473225, 'epoch': 6.0}\n",
            "english - model xlm-roberta train time 0:04:53.334470\n"
          ]
        },
        {
          "name": "stderr",
          "output_type": "stream",
          "text": [
            "Map: 100%|██████████| 2901/2901 [00:00<00:00, 7158.42 examples/s]\n",
            "Map: 100%|██████████| 643/643 [00:00<00:00, 6708.93 examples/s]\n",
            "/home/orian/PycharmProjects/ANLP/venv/lib/python3.10/site-packages/transformers/training_args.py:1474: FutureWarning: `evaluation_strategy` is deprecated and will be removed in version 4.46 of 🤗 Transformers. Use `eval_strategy` instead\n",
            "  warnings.warn(\n"
          ]
        },
        {
          "name": "stdout",
          "output_type": "stream",
          "text": [
            "{'eval_loss': 2.677781581878662, 'eval_runtime': 2.3204, 'eval_samples_per_second': 277.109, 'eval_steps_per_second': 17.669, 'epoch': 1.0}\n",
            "{'eval_loss': 2.4873955249786377, 'eval_runtime': 2.3389, 'eval_samples_per_second': 274.912, 'eval_steps_per_second': 17.529, 'epoch': 2.0}\n",
            "{'loss': 2.3693, 'grad_norm': 20.97149658203125, 'learning_rate': 1.0842490842490842e-05, 'epoch': 2.7472527472527473}\n",
            "{'eval_loss': 2.5279481410980225, 'eval_runtime': 2.3139, 'eval_samples_per_second': 277.89, 'eval_steps_per_second': 17.719, 'epoch': 3.0}\n",
            "{'eval_loss': 2.5625193119049072, 'eval_runtime': 2.3331, 'eval_samples_per_second': 275.604, 'eval_steps_per_second': 17.573, 'epoch': 4.0}\n",
            "{'eval_loss': 2.6762866973876953, 'eval_runtime': 2.255, 'eval_samples_per_second': 285.149, 'eval_steps_per_second': 18.182, 'epoch': 5.0}\n",
            "{'loss': 1.1846, 'grad_norm': 17.931636810302734, 'learning_rate': 1.6849816849816852e-06, 'epoch': 5.4945054945054945}\n",
            "{'eval_loss': 2.7333152294158936, 'eval_runtime': 2.3024, 'eval_samples_per_second': 279.277, 'eval_steps_per_second': 17.808, 'epoch': 6.0}\n",
            "{'train_runtime': 224.1966, 'train_samples_per_second': 77.637, 'train_steps_per_second': 4.871, 'train_loss': 1.7058062780471075, 'epoch': 6.0}\n",
            "english - model ru-bert train time 0:03:44.340453\n"
          ]
        }
      ],
      "source": [
        "import pickle\n",
        "from transformers import AutoTokenizer, AutoModelForQuestionAnswering, DefaultDataCollator, TrainingArguments, Trainer\n",
        "import torch\n",
        "import collections\n",
        "from datetime import datetime\n",
        "from tqdm import tqdm\n",
        "from evaluate import load\n",
        "from transformers.utils.logging import set_verbosity_error\n",
        "from transformers import set_seed\n",
        "\n",
        "set_seed(42)\n",
        "\n",
        "set_verbosity_error()\n",
        "squad_v2_metric = load(\"squad_v2\")\n",
        "\n",
        "val_answers = [a['text_en'][0] for a in squad['validation']['answers']]\n",
        "device = torch.device(\"cuda\" if torch.cuda.is_available() else \"cpu\")\n",
        "\n",
        "train_times = {}\n",
        "for batch, lr, epochs, model_name, model_path in [\n",
        "    (16, 2e-5, 6, 'bert', 'google-bert/bert-base-uncased'),\n",
        "    (16, 2e-5, 6, 'm-bert', 'bert-base-multilingual-cased'),\n",
        "    (16, 2e-5, 6, 'm-distil-bert', 'distilbert/distilbert-base-multilingual-cased'),\n",
        "    (16, 2e-5, 6, 'xlm-roberta', 'FacebookAI/xlm-roberta-base'),\n",
        "    (16, 2e-5, 6, 'ru-bert', 'DeepPavlov/rubert-base-cased'),\n",
        "]:\n",
        "    model = AutoModelForQuestionAnswering.from_pretrained(model_path)\n",
        "    tokenizer = AutoTokenizer.from_pretrained(model_path)\n",
        "\n",
        "    tokenized_datasets = squad.map(prepare_train_features, batched=True, remove_columns=squad[\"train\"].column_names)\n",
        "\n",
        "    with open(f\"../data/engish_tokenized_{model_name}_datasets.pkl\",\"wb\") as file:\n",
        "        pickle.dump(tokenized_datasets, file)\n",
        "\n",
        "\n",
        "    args = TrainingArguments(\n",
        "        output_dir=f\"../models/en_{model_name}\",\n",
        "        evaluation_strategy = \"epoch\",\n",
        "        save_strategy=\"epoch\", \n",
        "        learning_rate=lr,\n",
        "        per_device_train_batch_size=batch,\n",
        "        per_device_eval_batch_size=batch,\n",
        "        num_train_epochs=epochs,\n",
        "        report_to='tensorboard',\n",
        "        logging_dir=f'../logs/en_{model_name}',\n",
        "        load_best_model_at_end=True,\n",
        "        # weight_decay=0.01,\n",
        "    )\n",
        "\n",
        "\n",
        "    data_collator = DefaultDataCollator()\n",
        "\n",
        "    trainer = Trainer(\n",
        "        model=model,\n",
        "        args=args,\n",
        "        train_dataset=tokenized_datasets[\"train\"],\n",
        "        eval_dataset=tokenized_datasets[\"validation\"],\n",
        "        data_collator=data_collator,\n",
        "        tokenizer=tokenizer,\n",
        "    )\n",
        "\n",
        "    start_time = datetime.now()\n",
        "    trainer.train()\n",
        "    print(\"english - model\", model_name, \"train time\", datetime.now() - start_time)\n",
        "    train_times[model_name] = datetime.now() - start_time\n",
        "\n",
        "    trainer.save_model()"
      ]
    },
    {
      "cell_type": "code",
      "execution_count": 23,
      "metadata": {},
      "outputs": [
        {
          "data": {
            "text/plain": [
              "{'bert': datetime.timedelta(seconds=209, microseconds=779003),\n",
              " 'm-bert': datetime.timedelta(seconds=224, microseconds=494248),\n",
              " 'm-distil-bert': datetime.timedelta(seconds=154, microseconds=549765),\n",
              " 'xlm-roberta': datetime.timedelta(seconds=293, microseconds=334490),\n",
              " 'ru-bert': datetime.timedelta(seconds=224, microseconds=340473)}"
            ]
          },
          "execution_count": 23,
          "metadata": {},
          "output_type": "execute_result"
        }
      ],
      "source": [
        "train_times"
      ]
    },
    {
      "cell_type": "code",
      "execution_count": 87,
      "metadata": {},
      "outputs": [
        {
          "name": "stderr",
          "output_type": "stream",
          "text": [
            "Map: 100%|██████████| 2901/2901 [00:00<00:00, 7161.71 examples/s]\n",
            "Map: 100%|██████████| 643/643 [00:00<00:00, 7380.74 examples/s]\n",
            "100%|██████████| 643/643 [00:01<00:00, 373.98it/s]\n"
          ]
        },
        {
          "name": "stdout",
          "output_type": "stream",
          "text": [
            "english model bert invalid f1 score 0.9980526876584488\n",
            "english model bert squad results {'exact': 6.531881804043546, 'f1': 43.97983294109015, 'total': 643, 'HasAns_exact': 6.531881804043546, 'HasAns_f1': 43.97983294109015, 'HasAns_total': 643, 'best_exact': 6.531881804043546, 'best_exact_thresh': 0.0, 'best_f1': 43.97983294109015, 'best_f1_thresh': 0.0}\n"
          ]
        },
        {
          "name": "stderr",
          "output_type": "stream",
          "text": [
            "Map: 100%|██████████| 2901/2901 [00:00<00:00, 7036.54 examples/s]\n",
            "Map: 100%|██████████| 643/643 [00:00<00:00, 7343.46 examples/s]\n",
            "100%|██████████| 643/643 [00:01<00:00, 370.82it/s]\n"
          ]
        },
        {
          "name": "stdout",
          "output_type": "stream",
          "text": [
            "english model m-bert invalid f1 score 0.9872994652406417\n",
            "english model m-bert squad results {'exact': 6.842923794712286, 'f1': 51.11511206246131, 'total': 643, 'HasAns_exact': 6.842923794712286, 'HasAns_f1': 51.11511206246131, 'HasAns_total': 643, 'best_exact': 6.842923794712286, 'best_exact_thresh': 0.0, 'best_f1': 51.11511206246131, 'best_f1_thresh': 0.0}\n"
          ]
        },
        {
          "name": "stderr",
          "output_type": "stream",
          "text": [
            "Map: 100%|██████████| 2901/2901 [00:00<00:00, 6184.59 examples/s]\n",
            "Map: 100%|██████████| 643/643 [00:00<00:00, 8689.37 examples/s]\n",
            "100%|██████████| 643/643 [00:01<00:00, 542.31it/s]\n"
          ]
        },
        {
          "name": "stdout",
          "output_type": "stream",
          "text": [
            "english model m-distil-bert invalid f1 score 0.8855741724560686\n",
            "english model m-distil-bert squad results {'exact': 4.976671850699844, 'f1': 34.947770437423365, 'total': 643, 'HasAns_exact': 4.976671850699844, 'HasAns_f1': 34.947770437423365, 'HasAns_total': 643, 'best_exact': 4.976671850699844, 'best_exact_thresh': 0.0, 'best_f1': 34.947770437423365, 'best_f1_thresh': 0.0}\n"
          ]
        },
        {
          "name": "stderr",
          "output_type": "stream",
          "text": [
            "Map: 100%|██████████| 2901/2901 [00:00<00:00, 8104.58 examples/s]\n",
            "Map: 100%|██████████| 643/643 [00:00<00:00, 8234.50 examples/s]\n",
            "100%|██████████| 643/643 [00:01<00:00, 334.65it/s]\n"
          ]
        },
        {
          "name": "stdout",
          "output_type": "stream",
          "text": [
            "english model xlm-roberta invalid f1 score 1.0148477294895415\n",
            "english model xlm-roberta squad results {'exact': 11.35303265940902, 'f1': 68.92959734397188, 'total': 643, 'HasAns_exact': 11.35303265940902, 'HasAns_f1': 68.92959734397188, 'HasAns_total': 643, 'best_exact': 11.35303265940902, 'best_exact_thresh': 0.0, 'best_f1': 68.92959734397188, 'best_f1_thresh': 0.0}\n"
          ]
        },
        {
          "name": "stderr",
          "output_type": "stream",
          "text": [
            "Map: 100%|██████████| 2901/2901 [00:00<00:00, 7175.14 examples/s]\n",
            "Map: 100%|██████████| 643/643 [00:00<00:00, 7194.75 examples/s]\n",
            "100%|██████████| 643/643 [00:01<00:00, 324.47it/s]"
          ]
        },
        {
          "name": "stdout",
          "output_type": "stream",
          "text": [
            "english model ru-bert invalid f1 score 1.0199813124416015\n",
            "english model ru-bert squad results {'exact': 2.7993779160186625, 'f1': 47.17175718834036, 'total': 643, 'HasAns_exact': 2.7993779160186625, 'HasAns_f1': 47.17175718834036, 'HasAns_total': 643, 'best_exact': 2.7993779160186625, 'best_exact_thresh': 0.0, 'best_f1': 47.17175718834036, 'best_f1_thresh': 0.0}\n"
          ]
        },
        {
          "name": "stderr",
          "output_type": "stream",
          "text": [
            "\n"
          ]
        }
      ],
      "source": [
        "import pickle\n",
        "from transformers import AutoTokenizer, AutoModelForQuestionAnswering, DefaultDataCollator, TrainingArguments, Trainer\n",
        "import torch\n",
        "import collections\n",
        "from datetime import datetime\n",
        "from tqdm import tqdm\n",
        "from evaluate import load\n",
        "from transformers.utils.logging import set_verbosity_error\n",
        "from transformers import set_seed\n",
        "\n",
        "set_seed(42)\n",
        "\n",
        "set_verbosity_error()\n",
        "squad_v2_metric = load(\"squad_v2\")\n",
        "\n",
        "val_answers = [a['text_en'][0] for a in squad['validation']['answers']]\n",
        "device = torch.device(\"cuda\" if torch.cuda.is_available() else \"cpu\")\n",
        "\n",
        "for model_name in ['bert', 'm-bert', 'm-distil-bert', 'xlm-roberta', 'ru-bert']:\n",
        "\n",
        "    model = AutoModelForQuestionAnswering.from_pretrained(f\"../models/en_{model_name}\").cuda()\n",
        "    tokenizer = AutoTokenizer.from_pretrained(f\"../models/en_{model_name}\")\n",
        "\n",
        "    tokenized_datasets = squad.map(prepare_train_features, batched=True, remove_columns=squad[\"train\"].column_names)\n",
        "\n",
        "    eval_answers = []\n",
        "\n",
        "    for instance in tqdm(squad['validation']):\n",
        "        context = instance['context_en']\n",
        "        question = instance['question_en']\n",
        "\n",
        "        given_answer = instance['answers']['text_en'][0]  # Assuming the first answer is the correct one\n",
        "\n",
        "        inputs = tokenizer(question, context, return_tensors='pt', max_length=512, truncation=True)\n",
        "\n",
        "        inputs = {k: v.to(device) for k, v in inputs.items()}\n",
        "\n",
        "        with torch.no_grad():\n",
        "            output = model(**inputs)\n",
        "    \n",
        "        start_idx = torch.argmax(output.start_logits)\n",
        "        end_idx = torch.argmax(output.end_logits)\n",
        "\n",
        "        predicted_answer = tokenizer.convert_tokens_to_string(tokenizer.convert_ids_to_tokens(inputs['input_ids'][0][start_idx:end_idx + 1]))\n",
        "\n",
        "        eval_answers.append(predicted_answer)\n",
        "\n",
        "    num_c = []\n",
        "    num_p = []\n",
        "    num_g = []\n",
        "\n",
        "    for a in range(len(eval_answers)):\n",
        "\n",
        "        common = collections.Counter(eval_answers[a].split()) & collections.Counter(eval_answers[a].split()) # tokens shared between gold and predicted answers\n",
        "        num_common = sum(common.values())\n",
        "\n",
        "        num_pred = len(str(eval_answers[a]).split()) # the number of predicted tokens\n",
        "\n",
        "        num_gold = len(str(val_answers[a]).split()) # the number of gold tokens\n",
        "\n",
        "        num_c.append(num_common)\n",
        "        num_p.append(num_pred)\n",
        "        num_g.append(num_gold)\n",
        "\n",
        "    precision = 1.0 * sum(num_c) / sum(num_p) # the num of tokens shared between gold and predicted answers / the num of predicted tokens\n",
        "    recall = 1.0 * sum(num_c) / sum(num_g) # the num of tokens shared between gold and predicted answers / the num of gold tokens\n",
        "    invalid_f1_score= (2 * precision * recall) / (precision + recall)\n",
        "    print(\"english model\", model_name, \"invalid f1 score\", invalid_f1_score)\n",
        "\n",
        "    predictions = [{'prediction_text': a, 'id': str(idx), 'no_answer_probability': 0.} for idx, a in enumerate(eval_answers)]\n",
        "    references = [{'answers': a, 'id': str(idx)} for idx, a in enumerate([{'answer_start': r['answer_start_en'], 'text': r['text_en']} for r in squad['validation']['answers']])]\n",
        "\n",
        "    results = squad_v2_metric.compute(predictions=predictions, references=references)\n",
        "    print(\"english model\", model_name, \"squad results\", results)"
      ]
    },
    {
      "cell_type": "code",
      "execution_count": 89,
      "metadata": {},
      "outputs": [],
      "source": [
        "exploded_df = pd.json_normalize(pd.json_normalize(pd.read_json('../data/translated_alina.json')['data'])['paragraphs'].explode())\n",
        "exploded_df = exploded_df[~exploded_df['context_en'].isna()].reset_index(drop=True)\n",
        "exploded_df = exploded_df.drop('qas', axis=1).join(pd.DataFrame(exploded_df['qas'].explode())).reset_index(drop=True)\n",
        "exploded_df = exploded_df.join(pd.json_normalize(exploded_df['qas'])).drop('qas', axis=1)\n",
        "exploded_df = exploded_df[~exploded_df['question_en'].isna()].reset_index(drop=True)\n",
        "\n",
        "exploded_df['answers'] = exploded_df['answers'].apply(lambda an: {\n",
        "    'text_en': [an[0]['text_en']],\n",
        "    'answer_start_en': [an[0]['answer_start']],\n",
        "    'answer_end_en': [an[0]['answer_end']],\n",
        "})\n",
        "\n",
        "alina_translation = Dataset.from_pandas(exploded_df)\n",
        "\n",
        "squad_alina = DatasetDict({\n",
        "    'validation': alina_translation,\n",
        "    'train': alina_translation\n",
        "})"
      ]
    },
    {
      "cell_type": "code",
      "execution_count": 91,
      "metadata": {},
      "outputs": [
        {
          "name": "stderr",
          "output_type": "stream",
          "text": [
            "Map: 100%|██████████| 51/51 [00:00<00:00, 4826.48 examples/s]\n",
            "Map: 100%|██████████| 51/51 [00:00<00:00, 5468.17 examples/s]\n",
            "100%|██████████| 51/51 [00:00<00:00, 344.87it/s]\n"
          ]
        },
        {
          "name": "stdout",
          "output_type": "stream",
          "text": [
            "english model bert invalid f1 score 1.3346062052505967\n",
            "english model bert squad results {'exact': 1.9607843137254901, 'f1': 24.43551092730909, 'total': 51, 'HasAns_exact': 1.9607843137254901, 'HasAns_f1': 24.43551092730909, 'HasAns_total': 51, 'best_exact': 1.9607843137254901, 'best_exact_thresh': 0.0, 'best_f1': 24.43551092730909, 'best_f1_thresh': 0.0}\n"
          ]
        },
        {
          "name": "stderr",
          "output_type": "stream",
          "text": [
            "Map: 100%|██████████| 51/51 [00:00<00:00, 5259.90 examples/s]\n",
            "Map: 100%|██████████| 51/51 [00:00<00:00, 5218.96 examples/s]\n",
            "100%|██████████| 51/51 [00:00<00:00, 370.32it/s]\n"
          ]
        },
        {
          "name": "stdout",
          "output_type": "stream",
          "text": [
            "english model m-bert invalid f1 score 1.2659294365455502\n",
            "english model m-bert squad results {'exact': 3.9215686274509802, 'f1': 32.98134741266544, 'total': 51, 'HasAns_exact': 3.9215686274509802, 'HasAns_f1': 32.98134741266544, 'HasAns_total': 51, 'best_exact': 3.9215686274509802, 'best_exact_thresh': 0.0, 'best_f1': 32.98134741266544, 'best_f1_thresh': 0.0}\n"
          ]
        },
        {
          "name": "stderr",
          "output_type": "stream",
          "text": [
            "Map: 100%|██████████| 51/51 [00:00<00:00, 5845.16 examples/s]\n",
            "Map: 100%|██████████| 51/51 [00:00<00:00, 6201.17 examples/s]\n",
            "100%|██████████| 51/51 [00:00<00:00, 547.74it/s]\n"
          ]
        },
        {
          "name": "stdout",
          "output_type": "stream",
          "text": [
            "english model m-distil-bert invalid f1 score 1.2016036655211915\n",
            "english model m-distil-bert squad results {'exact': 0.0, 'f1': 25.119571312907087, 'total': 51, 'HasAns_exact': 0.0, 'HasAns_f1': 25.119571312907087, 'HasAns_total': 51, 'best_exact': 0.0, 'best_exact_thresh': 0.0, 'best_f1': 25.119571312907087, 'best_f1_thresh': 0.0}\n"
          ]
        },
        {
          "name": "stderr",
          "output_type": "stream",
          "text": [
            "Map: 100%|██████████| 51/51 [00:00<00:00, 5275.85 examples/s]\n",
            "Map: 100%|██████████| 51/51 [00:00<00:00, 5326.17 examples/s]\n",
            "100%|██████████| 51/51 [00:00<00:00, 344.24it/s]\n"
          ]
        },
        {
          "name": "stdout",
          "output_type": "stream",
          "text": [
            "english model xlm-roberta invalid f1 score 1.0894839973873287\n",
            "english model xlm-roberta squad results {'exact': 0.0, 'f1': 10.600878891004594, 'total': 51, 'HasAns_exact': 0.0, 'HasAns_f1': 10.600878891004594, 'HasAns_total': 51, 'best_exact': 0.0, 'best_exact_thresh': 0.0, 'best_f1': 10.600878891004594, 'best_f1_thresh': 0.0}\n"
          ]
        },
        {
          "name": "stderr",
          "output_type": "stream",
          "text": [
            "Map: 100%|██████████| 51/51 [00:00<00:00, 5092.96 examples/s]\n",
            "Map: 100%|██████████| 51/51 [00:00<00:00, 3692.23 examples/s]\n",
            "100%|██████████| 51/51 [00:00<00:00, 333.77it/s]\n"
          ]
        },
        {
          "name": "stdout",
          "output_type": "stream",
          "text": [
            "english model ru-bert invalid f1 score 1.153612629022465\n",
            "english model ru-bert squad results {'exact': 1.9607843137254901, 'f1': 28.09003672524135, 'total': 51, 'HasAns_exact': 1.9607843137254901, 'HasAns_f1': 28.09003672524135, 'HasAns_total': 51, 'best_exact': 1.9607843137254901, 'best_exact_thresh': 0.0, 'best_f1': 28.09003672524135, 'best_f1_thresh': 0.0}\n"
          ]
        }
      ],
      "source": [
        "from transformers import AutoTokenizer, AutoModelForQuestionAnswering, DefaultDataCollator, TrainingArguments, Trainer\n",
        "from tqdm import tqdm\n",
        "import torch\n",
        "import collections\n",
        "from tqdm import tqdm\n",
        "from evaluate import load\n",
        "from transformers.utils.logging import set_verbosity_error\n",
        "from transformers import set_seed\n",
        "\n",
        "set_seed(42)\n",
        "\n",
        "set_verbosity_error()\n",
        "squad_v2_metric = load(\"squad_v2\")\n",
        "\n",
        "val_answers = [a['text_en'][0] for a in squad_alina['validation']['answers']]\n",
        "device = torch.device(\"cuda\" if torch.cuda.is_available() else \"cpu\")\n",
        "\n",
        "for model_name in ['bert', 'm-bert', 'm-distil-bert', 'xlm-roberta', 'ru-bert']:\n",
        "\n",
        "    model = AutoModelForQuestionAnswering.from_pretrained(f\"../models/en_{model_name}\").cuda()\n",
        "    tokenizer = AutoTokenizer.from_pretrained(f\"../models/en_{model_name}\")\n",
        "\n",
        "    tokenized_datasets = squad_alina.map(prepare_train_features, batched=True, remove_columns=squad_alina[\"train\"].column_names)\n",
        "\n",
        "    eval_answers = []\n",
        "\n",
        "    for instance in tqdm(squad_alina['validation']):\n",
        "        context = instance['context_en']\n",
        "        question = instance['question_en']\n",
        "\n",
        "        given_answer = instance['answers']['text_en'][0]  # Assuming the first answer is the correct one\n",
        "\n",
        "        inputs = tokenizer(question, context, return_tensors='pt', max_length=512, truncation=True)\n",
        "\n",
        "        inputs = {k: v.to(device) for k, v in inputs.items()}\n",
        "\n",
        "        with torch.no_grad():\n",
        "            output = model(**inputs)\n",
        "    \n",
        "        start_idx = torch.argmax(output.start_logits)\n",
        "        end_idx = torch.argmax(output.end_logits)\n",
        "\n",
        "        predicted_answer = tokenizer.convert_tokens_to_string(tokenizer.convert_ids_to_tokens(inputs['input_ids'][0][start_idx:end_idx + 1]))\n",
        "\n",
        "        eval_answers.append(predicted_answer)\n",
        "\n",
        "    num_c = []\n",
        "    num_p = []\n",
        "    num_g = []\n",
        "\n",
        "    for a in range(len(eval_answers)):\n",
        "\n",
        "        common = collections.Counter(eval_answers[a].split()) & collections.Counter(eval_answers[a].split()) # tokens shared between gold and predicted answers\n",
        "        num_common = sum(common.values())\n",
        "\n",
        "        num_pred = len(str(eval_answers[a]).split()) # the number of predicted tokens\n",
        "\n",
        "        num_gold = len(str(val_answers[a]).split()) # the number of gold tokens\n",
        "\n",
        "        num_c.append(num_common)\n",
        "        num_p.append(num_pred)\n",
        "        num_g.append(num_gold)\n",
        "\n",
        "    precision = 1.0 * sum(num_c) / sum(num_p) # the num of tokens shared between gold and predicted answers / the num of predicted tokens\n",
        "    recall = 1.0 * sum(num_c) / sum(num_g) # the num of tokens shared between gold and predicted answers / the num of gold tokens\n",
        "    invalid_f1_score= (2 * precision * recall) / (precision + recall)\n",
        "    print(\"english model\", model_name, \"invalid f1 score\", invalid_f1_score)\n",
        "\n",
        "    predictions = [{'prediction_text': a, 'id': str(idx), 'no_answer_probability': 0.} for idx, a in enumerate(eval_answers)]\n",
        "    references = [{'answers': a, 'id': str(idx)} for idx, a in enumerate([{'answer_start': r['answer_start_en'], 'text': r['text_en']} for r in squad_alina['validation']['answers']])]\n",
        "\n",
        "    results = squad_v2_metric.compute(predictions=predictions, references=references)\n",
        "    print(\"english model\", model_name, \"squad results\", results)"
      ]
    }
  ],
  "metadata": {
    "colab": {
      "authorship_tag": "ABX9TyObSv3+ilrVHF5vItgMce1Q",
      "name": "Data_Preprocessor.ipynb",
      "provenance": []
    },
    "kernelspec": {
      "display_name": "Python 3",
      "name": "python3"
    },
    "language_info": {
      "codemirror_mode": {
        "name": "ipython",
        "version": 3
      },
      "file_extension": ".py",
      "mimetype": "text/x-python",
      "name": "python",
      "nbconvert_exporter": "python",
      "pygments_lexer": "ipython3",
      "version": "3.10.12"
    }
  },
  "nbformat": 4,
  "nbformat_minor": 0
}
