{
  "cells": [
    {
      "cell_type": "markdown",
      "metadata": {
        "id": "hKfvNlxGgDtB"
      },
      "source": [
        "# Installing libraries\n",
        "\n",
        "Installing HuggingFace Transformers (https://github.com/huggingface/transformers)"
      ]
    },
    {
      "cell_type": "code",
      "execution_count": null,
      "metadata": {
        "id": "Fb8BGEtXgAyA"
      },
      "outputs": [],
      "source": [
        "pip install transformers scikit-learn torch pandas"
      ]
    },
    {
      "cell_type": "markdown",
      "metadata": {
        "id": "7prRh1xhfB6l"
      },
      "source": [
        "\n",
        "\n",
        "Importing the libraries\n"
      ]
    },
    {
      "cell_type": "code",
      "execution_count": 6,
      "metadata": {
        "id": "o9K6YH2NeoEw"
      },
      "outputs": [],
      "source": [
        "import json\n",
        "from pathlib import Path\n",
        "from sklearn.model_selection import train_test_split\n",
        "from transformers import BertTokenizerFast \n",
        "import torch"
      ]
    },
    {
      "cell_type": "markdown",
      "metadata": {
        "id": "tRuKCDbpfQd7"
      },
      "source": [
        "# Dataset processing\n",
        "\n",
        "Uploading the dataset, splitting the data into train, validation and test sets"
      ]
    },
    {
      "cell_type": "code",
      "execution_count": 64,
      "metadata": {},
      "outputs": [],
      "source": [
        "import pandas as pd\n",
        "\n",
        "path = Path('../data/original.json')\n",
        "data = json.loads(path.read_text(encoding='utf-8'))\n",
        "df = pd.DataFrame(data)\n",
        "\n",
        "df1 = pd.DataFrame(df['data'].values.tolist())\n",
        "df1.columns = df1.columns\n",
        "col = df.columns.difference(['data'])\n",
        "df = pd.concat([df[col], df1],axis=1)"
      ]
    },
    {
      "cell_type": "code",
      "execution_count": 97,
      "metadata": {},
      "outputs": [],
      "source": [
        "data = df.explode('paragraphs')['paragraphs'].to_list()"
      ]
    },
    {
      "cell_type": "code",
      "execution_count": 98,
      "metadata": {
        "id": "ywVh-BXxfPAD"
      },
      "outputs": [],
      "source": [
        "train, temp = train_test_split(data, test_size=0.3, shuffle=True)\n",
        "val, test = train_test_split(temp, test_size=0.5, shuffle=True)"
      ]
    },
    {
      "cell_type": "markdown",
      "metadata": {
        "id": "VkXTOmn7gyee"
      },
      "source": [
        "Getting contexts, questions and answers from the train and validation sets"
      ]
    },
    {
      "cell_type": "code",
      "execution_count": 100,
      "metadata": {
        "id": "Bqqh_4GtfQ44"
      },
      "outputs": [],
      "source": [
        "def read_set(set):\n",
        "    \n",
        "    contexts = []\n",
        "    questions = []\n",
        "    answers = []\n",
        "\n",
        "    for group in set:\n",
        "        context = group['context']\n",
        "        for qa in group['qas']:\n",
        "            question = qa['question']\n",
        "            for answer in qa['answers']:\n",
        "                contexts.append(context)\n",
        "                questions.append(question)\n",
        "                answers.append(answer)\n",
        "\n",
        "    return contexts, questions, answers\n",
        "\n",
        "train_contexts, train_questions, train_answers = read_set(train)\n",
        "val_contexts, val_questions, val_answers = read_set(val)"
      ]
    },
    {
      "cell_type": "markdown",
      "metadata": {
        "id": "Pw-lw_ewhlP4"
      },
      "source": [
        "Adding span tags to answers and contexts"
      ]
    },
    {
      "cell_type": "code",
      "execution_count": 101,
      "metadata": {
        "id": "-mfvs56EfUWM"
      },
      "outputs": [],
      "source": [
        "def add_tags(answers, contexts):\n",
        "    for answer, context in zip(answers, contexts):\n",
        "        gold_text = answer['text']\n",
        "        start_tags = answer['answer_start']\n",
        "        end_tags = answer['answer_end']\n",
        "\n",
        "add_tags(train_answers, train_contexts)\n",
        "add_tags(val_answers, val_contexts)"
      ]
    },
    {
      "cell_type": "markdown",
      "metadata": {
        "id": "fyykpM2RjjRJ"
      },
      "source": [
        "# Tokenization and vectorization\n",
        "\n",
        "Initializating BertTokenizerFast from HuggingFace for BERT base multilingual cased pre-trained model"
      ]
    },
    {
      "cell_type": "code",
      "execution_count": 102,
      "metadata": {
        "id": "lpJsubljfdRd"
      },
      "outputs": [],
      "source": [
        "tokenizer = BertTokenizerFast.from_pretrained('bert-base-multilingual-cased')"
      ]
    },
    {
      "cell_type": "markdown",
      "metadata": {
        "id": "62BjfF2-kJ2y"
      },
      "source": [
        "Tokenizing and vectorizing questions and contexts with BertTokenizerFast"
      ]
    },
    {
      "cell_type": "code",
      "execution_count": 103,
      "metadata": {
        "id": "8vJcVP_2kKLV"
      },
      "outputs": [],
      "source": [
        "train_encodings = tokenizer(train_contexts, train_questions, truncation=True, padding=True)\n",
        "val_encodings = tokenizer(val_contexts, val_questions, truncation=True, padding=True)"
      ]
    },
    {
      "cell_type": "markdown",
      "metadata": {
        "id": "0LLl8Dj9kZ_r"
      },
      "source": [
        "# Preparing the data for training\n",
        "\n",
        "Adding token positions to answers"
      ]
    },
    {
      "cell_type": "code",
      "execution_count": 104,
      "metadata": {
        "id": "w4d2Xs9nfqmr"
      },
      "outputs": [],
      "source": [
        "def add_positions(encodings, answers):\n",
        "    start_positions = []\n",
        "    end_positions = []\n",
        "    for i in range(len(answers)):\n",
        "        start_positions.append(encodings.char_to_token(i, answers[i]['answer_start']))\n",
        "        end_positions.append(encodings.char_to_token(i, answers[i]['answer_end']))\n",
        "    encodings.update({'start_positions': start_positions, 'end_positions': end_positions})\n",
        "\n",
        "add_positions(train_encodings, train_answers)\n",
        "add_positions(val_encodings, val_answers)"
      ]
    },
    {
      "cell_type": "markdown",
      "metadata": {
        "id": "A25yijMWk4Wj"
      },
      "source": [
        "Adapting the data for training with PyTorch"
      ]
    },
    {
      "cell_type": "code",
      "execution_count": 107,
      "metadata": {
        "id": "mav7cNayfuPo"
      },
      "outputs": [],
      "source": [
        "class Dataset(torch.utils.data.Dataset):\n",
        "    def __init__(self, encodings):\n",
        "        self.encodings = encodings\n",
        "\n",
        "    def __getitem__(self, idx):\n",
        "        return {key: torch.tensor(val[idx] or -1, dtype=torch.int64) for key, val in self.encodings.items()}\n",
        "\n",
        "    def __len__(self):\n",
        "        return len(self.encodings.input_ids)\n",
        "\n",
        "train_dataset = Dataset(train_encodings)\n",
        "val_dataset = Dataset(val_encodings)\n"
      ]
    },
    {
      "cell_type": "code",
      "execution_count": 106,
      "metadata": {},
      "outputs": [],
      "source": [
        "import pickle\n",
        "\n",
        "with open(\"../data/train_dataset.pkl\",\"wb\") as file:\n",
        "    pickle.dump(train_dataset, file)\n",
        "\n",
        "with open(\"../data/val_dataset.pkl\",\"wb\") as file:\n",
        "    pickle.dump(val_dataset, file)"
      ]
    },
    {
      "cell_type": "code",
      "execution_count": 109,
      "metadata": {},
      "outputs": [],
      "source": [
        "with open(\"../data/val_answers.pkl\",\"wb\") as file:\n",
        "    pickle.dump(val_answers, file)\n",
        "\n",
        "with open(\"../data/val_questions.pkl\",\"wb\") as file:\n",
        "    pickle.dump(val_questions, file)\n",
        "\n",
        "with open(\"../data/val_contexts.pkl\",\"wb\") as file:\n",
        "    pickle.dump(val_contexts, file)"
      ]
    }
  ],
  "metadata": {
    "colab": {
      "authorship_tag": "ABX9TyObSv3+ilrVHF5vItgMce1Q",
      "name": "Data_Preprocessor.ipynb",
      "provenance": []
    },
    "kernelspec": {
      "display_name": "Python 3",
      "name": "python3"
    },
    "language_info": {
      "codemirror_mode": {
        "name": "ipython",
        "version": 3
      },
      "file_extension": ".py",
      "mimetype": "text/x-python",
      "name": "python",
      "nbconvert_exporter": "python",
      "pygments_lexer": "ipython3",
      "version": "3.10.12"
    }
  },
  "nbformat": 4,
  "nbformat_minor": 0
}
