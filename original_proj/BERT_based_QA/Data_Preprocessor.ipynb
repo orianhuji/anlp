{
  "cells": [
    {
      "cell_type": "markdown",
      "metadata": {
        "id": "hKfvNlxGgDtB"
      },
      "source": [
        "# Installing libraries\n",
        "\n",
        "Installing HuggingFace Transformers (https://github.com/huggingface/transformers)"
      ]
    },
    {
      "cell_type": "code",
      "execution_count": 15,
      "metadata": {
        "id": "Fb8BGEtXgAyA"
      },
      "outputs": [
        {
          "name": "stdout",
          "output_type": "stream",
          "text": [
            "Requirement already satisfied: transformers in /home/orian/PycharmProjects/nlp-huawei-project/.venv/lib/python3.10/site-packages (4.42.3)\n",
            "Requirement already satisfied: scikit-learn in /home/orian/PycharmProjects/nlp-huawei-project/.venv/lib/python3.10/site-packages (1.5.1)\n",
            "Requirement already satisfied: torch in /home/orian/PycharmProjects/nlp-huawei-project/.venv/lib/python3.10/site-packages (2.3.1)\n",
            "Collecting pandas\n",
            "  Using cached pandas-2.2.2-cp310-cp310-manylinux_2_17_x86_64.manylinux2014_x86_64.whl.metadata (19 kB)\n",
            "Requirement already satisfied: filelock in /home/orian/PycharmProjects/nlp-huawei-project/.venv/lib/python3.10/site-packages (from transformers) (3.15.4)\n",
            "Requirement already satisfied: huggingface-hub<1.0,>=0.23.2 in /home/orian/PycharmProjects/nlp-huawei-project/.venv/lib/python3.10/site-packages (from transformers) (0.23.4)\n",
            "Requirement already satisfied: numpy<2.0,>=1.17 in /home/orian/PycharmProjects/nlp-huawei-project/.venv/lib/python3.10/site-packages (from transformers) (1.26.4)\n",
            "Requirement already satisfied: packaging>=20.0 in /home/orian/PycharmProjects/nlp-huawei-project/.venv/lib/python3.10/site-packages (from transformers) (24.1)\n",
            "Requirement already satisfied: pyyaml>=5.1 in /home/orian/PycharmProjects/nlp-huawei-project/.venv/lib/python3.10/site-packages (from transformers) (6.0.1)\n",
            "Requirement already satisfied: regex!=2019.12.17 in /home/orian/PycharmProjects/nlp-huawei-project/.venv/lib/python3.10/site-packages (from transformers) (2024.5.15)\n",
            "Requirement already satisfied: requests in /home/orian/PycharmProjects/nlp-huawei-project/.venv/lib/python3.10/site-packages (from transformers) (2.32.3)\n",
            "Requirement already satisfied: safetensors>=0.4.1 in /home/orian/PycharmProjects/nlp-huawei-project/.venv/lib/python3.10/site-packages (from transformers) (0.4.3)\n",
            "Requirement already satisfied: tokenizers<0.20,>=0.19 in /home/orian/PycharmProjects/nlp-huawei-project/.venv/lib/python3.10/site-packages (from transformers) (0.19.1)\n",
            "Requirement already satisfied: tqdm>=4.27 in /home/orian/PycharmProjects/nlp-huawei-project/.venv/lib/python3.10/site-packages (from transformers) (4.66.4)\n",
            "Requirement already satisfied: scipy>=1.6.0 in /home/orian/PycharmProjects/nlp-huawei-project/.venv/lib/python3.10/site-packages (from scikit-learn) (1.14.0)\n",
            "Requirement already satisfied: joblib>=1.2.0 in /home/orian/PycharmProjects/nlp-huawei-project/.venv/lib/python3.10/site-packages (from scikit-learn) (1.4.2)\n",
            "Requirement already satisfied: threadpoolctl>=3.1.0 in /home/orian/PycharmProjects/nlp-huawei-project/.venv/lib/python3.10/site-packages (from scikit-learn) (3.5.0)\n",
            "Requirement already satisfied: typing-extensions>=4.8.0 in /home/orian/PycharmProjects/nlp-huawei-project/.venv/lib/python3.10/site-packages (from torch) (4.12.2)\n",
            "Requirement already satisfied: sympy in /home/orian/PycharmProjects/nlp-huawei-project/.venv/lib/python3.10/site-packages (from torch) (1.12.1)\n",
            "Requirement already satisfied: networkx in /home/orian/PycharmProjects/nlp-huawei-project/.venv/lib/python3.10/site-packages (from torch) (3.3)\n",
            "Requirement already satisfied: jinja2 in /home/orian/PycharmProjects/nlp-huawei-project/.venv/lib/python3.10/site-packages (from torch) (3.1.4)\n",
            "Requirement already satisfied: fsspec in /home/orian/PycharmProjects/nlp-huawei-project/.venv/lib/python3.10/site-packages (from torch) (2024.6.1)\n",
            "Requirement already satisfied: nvidia-cuda-nvrtc-cu12==12.1.105 in /home/orian/PycharmProjects/nlp-huawei-project/.venv/lib/python3.10/site-packages (from torch) (12.1.105)\n",
            "Requirement already satisfied: nvidia-cuda-runtime-cu12==12.1.105 in /home/orian/PycharmProjects/nlp-huawei-project/.venv/lib/python3.10/site-packages (from torch) (12.1.105)\n",
            "Requirement already satisfied: nvidia-cuda-cupti-cu12==12.1.105 in /home/orian/PycharmProjects/nlp-huawei-project/.venv/lib/python3.10/site-packages (from torch) (12.1.105)\n",
            "Requirement already satisfied: nvidia-cudnn-cu12==8.9.2.26 in /home/orian/PycharmProjects/nlp-huawei-project/.venv/lib/python3.10/site-packages (from torch) (8.9.2.26)\n",
            "Requirement already satisfied: nvidia-cublas-cu12==12.1.3.1 in /home/orian/PycharmProjects/nlp-huawei-project/.venv/lib/python3.10/site-packages (from torch) (12.1.3.1)\n",
            "Requirement already satisfied: nvidia-cufft-cu12==11.0.2.54 in /home/orian/PycharmProjects/nlp-huawei-project/.venv/lib/python3.10/site-packages (from torch) (11.0.2.54)\n",
            "Requirement already satisfied: nvidia-curand-cu12==10.3.2.106 in /home/orian/PycharmProjects/nlp-huawei-project/.venv/lib/python3.10/site-packages (from torch) (10.3.2.106)\n",
            "Requirement already satisfied: nvidia-cusolver-cu12==11.4.5.107 in /home/orian/PycharmProjects/nlp-huawei-project/.venv/lib/python3.10/site-packages (from torch) (11.4.5.107)\n",
            "Requirement already satisfied: nvidia-cusparse-cu12==12.1.0.106 in /home/orian/PycharmProjects/nlp-huawei-project/.venv/lib/python3.10/site-packages (from torch) (12.1.0.106)\n",
            "Requirement already satisfied: nvidia-nccl-cu12==2.20.5 in /home/orian/PycharmProjects/nlp-huawei-project/.venv/lib/python3.10/site-packages (from torch) (2.20.5)\n",
            "Requirement already satisfied: nvidia-nvtx-cu12==12.1.105 in /home/orian/PycharmProjects/nlp-huawei-project/.venv/lib/python3.10/site-packages (from torch) (12.1.105)\n",
            "Requirement already satisfied: triton==2.3.1 in /home/orian/PycharmProjects/nlp-huawei-project/.venv/lib/python3.10/site-packages (from torch) (2.3.1)\n",
            "Requirement already satisfied: nvidia-nvjitlink-cu12 in /home/orian/PycharmProjects/nlp-huawei-project/.venv/lib/python3.10/site-packages (from nvidia-cusolver-cu12==11.4.5.107->torch) (12.5.82)\n",
            "Requirement already satisfied: python-dateutil>=2.8.2 in /home/orian/PycharmProjects/nlp-huawei-project/.venv/lib/python3.10/site-packages (from pandas) (2.9.0.post0)\n",
            "Collecting pytz>=2020.1 (from pandas)\n",
            "  Using cached pytz-2024.1-py2.py3-none-any.whl.metadata (22 kB)\n",
            "Collecting tzdata>=2022.7 (from pandas)\n",
            "  Using cached tzdata-2024.1-py2.py3-none-any.whl.metadata (1.4 kB)\n",
            "Requirement already satisfied: six>=1.5 in /home/orian/PycharmProjects/nlp-huawei-project/.venv/lib/python3.10/site-packages (from python-dateutil>=2.8.2->pandas) (1.16.0)\n",
            "Requirement already satisfied: MarkupSafe>=2.0 in /home/orian/PycharmProjects/nlp-huawei-project/.venv/lib/python3.10/site-packages (from jinja2->torch) (2.1.5)\n",
            "Requirement already satisfied: charset-normalizer<4,>=2 in /home/orian/PycharmProjects/nlp-huawei-project/.venv/lib/python3.10/site-packages (from requests->transformers) (3.3.2)\n",
            "Requirement already satisfied: idna<4,>=2.5 in /home/orian/PycharmProjects/nlp-huawei-project/.venv/lib/python3.10/site-packages (from requests->transformers) (3.7)\n",
            "Requirement already satisfied: urllib3<3,>=1.21.1 in /home/orian/PycharmProjects/nlp-huawei-project/.venv/lib/python3.10/site-packages (from requests->transformers) (2.2.2)\n",
            "Requirement already satisfied: certifi>=2017.4.17 in /home/orian/PycharmProjects/nlp-huawei-project/.venv/lib/python3.10/site-packages (from requests->transformers) (2024.7.4)\n",
            "Requirement already satisfied: mpmath<1.4.0,>=1.1.0 in /home/orian/PycharmProjects/nlp-huawei-project/.venv/lib/python3.10/site-packages (from sympy->torch) (1.3.0)\n",
            "Using cached pandas-2.2.2-cp310-cp310-manylinux_2_17_x86_64.manylinux2014_x86_64.whl (13.0 MB)\n",
            "Using cached pytz-2024.1-py2.py3-none-any.whl (505 kB)\n",
            "Using cached tzdata-2024.1-py2.py3-none-any.whl (345 kB)\n",
            "Installing collected packages: pytz, tzdata, pandas\n",
            "Successfully installed pandas-2.2.2 pytz-2024.1 tzdata-2024.1\n",
            "Note: you may need to restart the kernel to use updated packages.\n"
          ]
        }
      ],
      "source": [
        "pip install transformers scikit-learn torch pandas"
      ]
    },
    {
      "cell_type": "markdown",
      "metadata": {
        "id": "7prRh1xhfB6l"
      },
      "source": [
        "\n",
        "\n",
        "Importing the libraries\n"
      ]
    },
    {
      "cell_type": "code",
      "execution_count": 6,
      "metadata": {
        "id": "o9K6YH2NeoEw"
      },
      "outputs": [],
      "source": [
        "import json\n",
        "from pathlib import Path\n",
        "from sklearn.model_selection import train_test_split\n",
        "from transformers import BertTokenizerFast \n",
        "import torch"
      ]
    },
    {
      "cell_type": "markdown",
      "metadata": {
        "id": "tRuKCDbpfQd7"
      },
      "source": [
        "# Dataset processing\n",
        "\n",
        "Uploading the dataset, splitting the data into train, validation and test sets"
      ]
    },
    {
      "cell_type": "code",
      "execution_count": 64,
      "metadata": {},
      "outputs": [],
      "source": [
        "import pandas as pd\n",
        "\n",
        "path = Path('../data/original.json')\n",
        "data = json.loads(path.read_text(encoding='utf-8'))\n",
        "df = pd.DataFrame(data)\n",
        "\n",
        "df1 = pd.DataFrame(df['data'].values.tolist())\n",
        "df1.columns = df1.columns\n",
        "col = df.columns.difference(['data'])\n",
        "df = pd.concat([df[col], df1],axis=1)"
      ]
    },
    {
      "cell_type": "code",
      "execution_count": 97,
      "metadata": {},
      "outputs": [],
      "source": [
        "data = df.explode('paragraphs')['paragraphs'].to_list()"
      ]
    },
    {
      "cell_type": "code",
      "execution_count": 98,
      "metadata": {
        "id": "ywVh-BXxfPAD"
      },
      "outputs": [],
      "source": [
        "train, temp = train_test_split(data, test_size=0.3, shuffle=True)\n",
        "val, test = train_test_split(temp, test_size=0.5, shuffle=True)"
      ]
    },
    {
      "cell_type": "markdown",
      "metadata": {
        "id": "VkXTOmn7gyee"
      },
      "source": [
        "Getting contexts, questions and answers from the train and validation sets"
      ]
    },
    {
      "cell_type": "code",
      "execution_count": 100,
      "metadata": {
        "id": "Bqqh_4GtfQ44"
      },
      "outputs": [],
      "source": [
        "def read_set(set):\n",
        "    \n",
        "    contexts = []\n",
        "    questions = []\n",
        "    answers = []\n",
        "\n",
        "    for group in set:\n",
        "        context = group['context']\n",
        "        for qa in group['qas']:\n",
        "            question = qa['question']\n",
        "            for answer in qa['answers']:\n",
        "                contexts.append(context)\n",
        "                questions.append(question)\n",
        "                answers.append(answer)\n",
        "\n",
        "    return contexts, questions, answers\n",
        "\n",
        "train_contexts, train_questions, train_answers = read_set(train)\n",
        "val_contexts, val_questions, val_answers = read_set(val)"
      ]
    },
    {
      "cell_type": "markdown",
      "metadata": {
        "id": "Pw-lw_ewhlP4"
      },
      "source": [
        "Adding span tags to answers and contexts"
      ]
    },
    {
      "cell_type": "code",
      "execution_count": 101,
      "metadata": {
        "id": "-mfvs56EfUWM"
      },
      "outputs": [],
      "source": [
        "def add_tags(answers, contexts):\n",
        "    for answer, context in zip(answers, contexts):\n",
        "        gold_text = answer['text']\n",
        "        start_tags = answer['answer_start']\n",
        "        end_tags = answer['answer_end']\n",
        "\n",
        "add_tags(train_answers, train_contexts)\n",
        "add_tags(val_answers, val_contexts)"
      ]
    },
    {
      "cell_type": "markdown",
      "metadata": {
        "id": "fyykpM2RjjRJ"
      },
      "source": [
        "# Tokenization and vectorization\n",
        "\n",
        "Initializating BertTokenizerFast from HuggingFace for BERT base multilingual cased pre-trained model"
      ]
    },
    {
      "cell_type": "code",
      "execution_count": 102,
      "metadata": {
        "id": "lpJsubljfdRd"
      },
      "outputs": [],
      "source": [
        "tokenizer = BertTokenizerFast.from_pretrained('bert-base-multilingual-cased')"
      ]
    },
    {
      "cell_type": "markdown",
      "metadata": {
        "id": "62BjfF2-kJ2y"
      },
      "source": [
        "Tokenizing and vectorizing questions and contexts with BertTokenizerFast"
      ]
    },
    {
      "cell_type": "code",
      "execution_count": 103,
      "metadata": {
        "id": "8vJcVP_2kKLV"
      },
      "outputs": [],
      "source": [
        "train_encodings = tokenizer(train_contexts, train_questions, truncation=True, padding=True)\n",
        "val_encodings = tokenizer(val_contexts, val_questions, truncation=True, padding=True)"
      ]
    },
    {
      "cell_type": "markdown",
      "metadata": {
        "id": "0LLl8Dj9kZ_r"
      },
      "source": [
        "# Preparing the data for training\n",
        "\n",
        "Adding token positions to answers"
      ]
    },
    {
      "cell_type": "code",
      "execution_count": 104,
      "metadata": {
        "id": "w4d2Xs9nfqmr"
      },
      "outputs": [],
      "source": [
        "def add_positions(encodings, answers):\n",
        "    start_positions = []\n",
        "    end_positions = []\n",
        "    for i in range(len(answers)):\n",
        "        start_positions.append(encodings.char_to_token(i, answers[i]['answer_start']))\n",
        "        end_positions.append(encodings.char_to_token(i, answers[i]['answer_end']))\n",
        "    encodings.update({'start_positions': start_positions, 'end_positions': end_positions})\n",
        "\n",
        "add_positions(train_encodings, train_answers)\n",
        "add_positions(val_encodings, val_answers)"
      ]
    },
    {
      "cell_type": "markdown",
      "metadata": {
        "id": "A25yijMWk4Wj"
      },
      "source": [
        "Adapting the data for training with PyTorch"
      ]
    },
    {
      "cell_type": "code",
      "execution_count": 107,
      "metadata": {
        "id": "mav7cNayfuPo"
      },
      "outputs": [],
      "source": [
        "class Dataset(torch.utils.data.Dataset):\n",
        "    def __init__(self, encodings):\n",
        "        self.encodings = encodings\n",
        "\n",
        "    def __getitem__(self, idx):\n",
        "        return {key: torch.tensor(val[idx] or -1, dtype=torch.int64) for key, val in self.encodings.items()}\n",
        "\n",
        "    def __len__(self):\n",
        "        return len(self.encodings.input_ids)\n",
        "\n",
        "train_dataset = Dataset(train_encodings)\n",
        "val_dataset = Dataset(val_encodings)\n"
      ]
    },
    {
      "cell_type": "code",
      "execution_count": 106,
      "metadata": {},
      "outputs": [],
      "source": [
        "import pickle\n",
        "\n",
        "with open(\"../data/train_dataset.pkl\",\"wb\") as file:\n",
        "    pickle.dump(train_dataset, file)\n",
        "\n",
        "with open(\"../data/val_dataset.pkl\",\"wb\") as file:\n",
        "    pickle.dump(val_dataset, file)"
      ]
    },
    {
      "cell_type": "code",
      "execution_count": 109,
      "metadata": {},
      "outputs": [],
      "source": [
        "with open(\"../data/val_answers.pkl\",\"wb\") as file:\n",
        "    pickle.dump(val_answers, file)\n",
        "\n",
        "with open(\"../data/val_questions.pkl\",\"wb\") as file:\n",
        "    pickle.dump(val_questions, file)\n",
        "\n",
        "with open(\"../data/val_contexts.pkl\",\"wb\") as file:\n",
        "    pickle.dump(val_contexts, file)"
      ]
    }
  ],
  "metadata": {
    "colab": {
      "authorship_tag": "ABX9TyObSv3+ilrVHF5vItgMce1Q",
      "name": "Data_Preprocessor.ipynb",
      "provenance": []
    },
    "kernelspec": {
      "display_name": "Python 3",
      "name": "python3"
    },
    "language_info": {
      "codemirror_mode": {
        "name": "ipython",
        "version": 3
      },
      "file_extension": ".py",
      "mimetype": "text/x-python",
      "name": "python",
      "nbconvert_exporter": "python",
      "pygments_lexer": "ipython3",
      "version": "3.10.12"
    }
  },
  "nbformat": 4,
  "nbformat_minor": 0
}
